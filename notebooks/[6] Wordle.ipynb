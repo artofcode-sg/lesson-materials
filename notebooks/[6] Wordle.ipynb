{
 "cells": [
  {
   "cell_type": "markdown",
   "metadata": {},
   "source": [
    "![Art of Code banner](https://github.com/artofcode-sg/lesson-materials/blob/main/notebook-assets/aoc-banner.png?raw=true)\n",
    "\n",
    "# Wordle\n",
    "Congratulations on reaching the final milestone of this course. In this section, we will utilise the concepts we learnt from the previous lesson to create a **Wordle Game**. Don't worry - we'll walk you through the entire process!\n",
    "\n",
    "At the end, you may choose to create Wordle Game **Modifications** not present in the actual game to make it more fun! \n",
    "\n",
    "<details>\n",
    "    <summary><strong>Wordle rules</strong></summary>\n",
    "    <img src=\"https://github.com/artofcode-sg/lesson-materials/blob/8324c5449c584646495dabbad801d762571cc7a9/notebook-assets/wordle-rules.png?raw=true\" alt=\"Wordle rules\">\n",
    "</details>"
   ]
  },
  {
   "cell_type": "markdown",
   "metadata": {},
   "source": [
    "To help you write your Wordle program, we've included some helpful functions in this file — run the code cell below to be able to access them:\n",
    "\n",
    "- `generate_word()`\n",
    "- `is_english_word(word)`\n",
    "- `start_timer()`\n",
    "- `get_elapsed_time()`\n",
    "- `hint(prev_answers, answer)`"
   ]
  },
  {
   "cell_type": "code",
   "execution_count": null,
   "metadata": {},
   "outputs": [],
   "source": [
    "import json\n",
    "import time\n",
    "import random\n",
    "from pathlib import Path\n",
    "import requests\n",
    "\n",
    "WORDS_DICT_URL = \"https://raw.githubusercontent.com/artofcode-sg/lesson-materials/main/notebooks/src/words_dictionary.json\"\n",
    "words_dict = requests.get(WORDS_DICT_URL).json()\n",
    "\n",
    "GENERATABLE_WORDS_URL = \"https://raw.githubusercontent.com/artofcode-sg/lesson-materials/main/notebooks/wordle-words.json\"\n",
    "generatable_words = requests.get(GENERATABLE_WORDS_URL).json()\n",
    "\n",
    "def generate_word():\n",
    "    return generatable_words[random.randint(0, 487)]\n",
    "\n",
    "\n",
    "def is_english_word(word):\n",
    "    return word.lower() in generatable_words\n",
    "\n",
    "\n",
    "def start_timer():\n",
    "    global start_time\n",
    "    start_time = time.time()\n",
    "\n",
    "\n",
    "def get_elapsed_time():\n",
    "    end_time = time.time()\n",
    "    return end_time - start_time\n",
    "\n",
    "\n",
    "def hint(prev_answers, answer):\n",
    "    known_chara = [\"⬛\"] * 5\n",
    "    index_known_chara = [0, 1, 2, 3, 4]\n",
    "    for i in range(5):\n",
    "        for j in prev_answers:\n",
    "            if j[i] == answer[i]:\n",
    "                known_chara[i] = j[i]\n",
    "                index_known_chara.pop(index_known_chara.index(i))\n",
    "                break\n",
    "    change_index = index_known_chara[random.randint(0, len(index_known_chara) - 1)]\n",
    "    known_chara[change_index] = answer[change_index]\n",
    "    return \"\".join(known_chara)"
   ]
  },
  {
   "cell_type": "markdown",
   "metadata": {},
   "source": [
    "The code below makes use of one of our provided functions — try running it."
   ]
  },
  {
   "cell_type": "code",
   "execution_count": null,
   "metadata": {},
   "outputs": [],
   "source": [
    "word = generate_word() \n",
    "print(word) # Run me!"
   ]
  },
  {
   "cell_type": "markdown",
   "metadata": {},
   "source": [
    "## Task 1: Word guesser!\n",
    "Before we start, there are some helper functions given in this program to make your life easier! \n",
    "\n",
    "One example is the `generate_word()` function that we will be using below. It generates and returns a random 5-letter word. Try it out below!"
   ]
  },
  {
   "cell_type": "markdown",
   "metadata": {},
   "source": [
    "Now, make a simple guessing game, where a player repeatedly guesses a word until the correct word is reached (though it is very unlikely)! \n",
    "\n",
    "**Example output:**\n",
    "\n",
    "<img src=\"https://github.com/artofcode-sg/lesson-materials/blob/main/notebook-assets/program-demo.gif?raw=true\">\n",
    "\n",
    "Note: The correct word in the example above is \"house\", the program just ends when the correct word is guessed."
   ]
  },
  {
   "cell_type": "code",
   "execution_count": null,
   "metadata": {},
   "outputs": [],
   "source": [
    "word = generate_word()\n",
    "# Write your code here!"
   ]
  },
  {
   "cell_type": "markdown",
   "metadata": {},
   "source": [
    "## Task 2: Six times only\n",
    "In the real wordle, we can only get a maximum of 6 tries.\n",
    "\n",
    "Can we edit the while loop such that:\n",
    "- it ends after 6 guess attempts\n",
    "- At the start of every guess, output which guess number it is at\n",
    "\n",
    "Note that the program should still end after the word is guessed, **even if 6 attempts has not been reached**\n",
    "\n",
    "<details>\n",
    "    <summary><strong>Hint:</strong> How do we combine two conditionals together?</summary>\n",
    "    Refer back to Chapter 3: Conditionals\n",
    "</details>"
   ]
  },
  {
   "cell_type": "markdown",
   "metadata": {},
   "source": [
    "**Example output:**\n",
    "```plaintext\n",
    "Guess 1: guess\n",
    "Guess 2: house\n",
    "Guess 3: cheat\n",
    "Guess 4: route\n",
    "Guess 5: rules\n",
    "Guess 6: rebus\n",
    "```"
   ]
  },
  {
   "cell_type": "code",
   "execution_count": null,
   "metadata": {},
   "outputs": [],
   "source": [
    "word = generate_word()\n",
    "# Write your code here!"
   ]
  },
  {
   "cell_type": "markdown",
   "metadata": {},
   "source": [
    "## Task 3: 🟩🟨⬛ Tiles\n",
    "Right now it doesnt really look it Wordle does it? It is missing the iconic green, yellow and black tiles. \n",
    "\n",
    "Let's recap\n",
    "- If the tile turns 🟩, the letter is in the word, and it is in the correct spot.\n",
    "- If the tile turns 🟨, the letter is in the word, but it is not in the correct spot.\n",
    "- If the tile turns ⬛, the letter is not in the word.\n",
    "\n",
    "Let's use these rules to output the result of each guess."
   ]
  },
  {
   "cell_type": "markdown",
   "metadata": {},
   "source": [
    "#### String concatenation `+`\n",
    "Firstly, we need to learn string concatenation. String concatenation is adding text together. \n",
    "\n",
    "Here's an example below:"
   ]
  },
  {
   "cell_type": "code",
   "execution_count": null,
   "metadata": {},
   "outputs": [],
   "source": [
    "# You can add text together like this! \n",
    "text = \"abc\"\n",
    "text = text + \"def\"\n",
    "print(text)"
   ]
  },
  {
   "cell_type": "markdown",
   "metadata": {},
   "source": [
    "### Task 3.1: Green Tiles!\n",
    "Now that we know what we need to know, lets create it!\n",
    "Let's start by implementing the green and black tiles. \n",
    "\n",
    "Edit your current program where after every guess, the program will output 5 tiles, with each tile corresponding to a character in the guessed word.\n",
    "- For each letter, the tile turns 🟩, if the letter is in the word, and it is in the correct spot.\n",
    "- The tile turns ⬛ for all other letters\n",
    "\n",
    "<details>\n",
    "    <summary><strong>Hint:</strong> check each character in the string one by one?</summary>\n",
    "    Refer back to Chapter 6: Lists\n",
    "</details>\n",
    "\n",
    "**New function(s)/concept(s) that you need to use:**\n",
    "1. String concatenation `+`\n"
   ]
  },
  {
   "cell_type": "markdown",
   "metadata": {},
   "source": [
    "**Example Output:**\n",
    "```plaintext\n",
    "Guess 1: house\n",
    "⬛⬛⬛⬛⬛\n",
    "Guess 2: chant\n",
    "🟩⬛⬛⬛⬛\n",
    "Guess 3: catch\n",
    "🟩🟩🟩🟩🟩\n",
    "```"
   ]
  },
  {
   "cell_type": "code",
   "execution_count": null,
   "metadata": {},
   "outputs": [],
   "source": [
    "# Task 3.1 \n",
    "word = generate_word()\n",
    "# Write your code here!"
   ]
  },
  {
   "cell_type": "markdown",
   "metadata": {},
   "source": [
    "#### The `in` operator\n",
    "Next, we need to learn the `in` operator. \n",
    "\n",
    "The `in` operator checks whether a character is present in another character. \n",
    "\n",
    "Here's an example below:"
   ]
  },
  {
   "cell_type": "code",
   "execution_count": null,
   "metadata": {},
   "outputs": [],
   "source": [
    "if \"a\" in \"abc\":\n",
    "\tprint(\"a is in abc\") # printed\n",
    "else:\n",
    "\tprint(\"a is not in abc\")\n",
    "\n",
    "if \"z\" in \"abc\":\n",
    "\tprint(\"z is in abc\")\n",
    "else:\n",
    "\tprint(\"z is not in abc\") # printed"
   ]
  },
  {
   "cell_type": "markdown",
   "metadata": {},
   "source": [
    "### Task 3.2: Yellow & Black Tiles!\n",
    "Now that we have implemented the green tiles, let's implement the yellow and black tiles. \n",
    "\n",
    "Let's recap:\n",
    "- If the tile turns 🟩, the letter is in the word, and it is in the correct spot.\n",
    "- If the tile turns 🟨, the letter is in the word, but it is not in the correct spot.\n",
    "- If the tile turns ⬛, the letter is not in the word.\n",
    "\n",
    "<details>\n",
    "    <summary><strong>Hint:</strong> check each character one by one?</summary>\n",
    "    Refer back to Chapter 6: Lists\n",
    "</details>\n",
    "\n",
    "**New function(s)/concept(s) that you need to use:**\n",
    "1. String concatenation `+`\n",
    "2. The `in` operator "
   ]
  },
  {
   "cell_type": "markdown",
   "metadata": {},
   "source": [
    "**Example Output:**\n",
    "```plaintext\n",
    "Guess 1: house\n",
    "🟨⬛⬛⬛⬛\n",
    "Guess 2: chant\n",
    "🟩🟨🟨⬛🟨\n",
    "Guess 3: catch\n",
    "🟩🟩🟩🟩🟩\n",
    "```"
   ]
  },
  {
   "cell_type": "code",
   "execution_count": null,
   "metadata": {},
   "outputs": [],
   "source": [
    "# Task 3.2 \n",
    "word = generate_word()\n",
    "# Write your code here!"
   ]
  },
  {
   "cell_type": "markdown",
   "metadata": {},
   "source": [
    "## Task 4: Validate guesses (Length)\n",
    "What happens when we try entering a word that is more than or less than 5 characters? Try it on your own code. (It still takes it as a guess)\n",
    "\n",
    "Let us validate the input by checking if the length of the guess is 5. \\\n",
    "Else, we should keep asking until the user gives a input which is 5 characters long, where we will finally count that as an attempt and output the tiles."
   ]
  },
  {
   "cell_type": "markdown",
   "metadata": {},
   "source": [
    "**Example Output:**\n",
    "```plaintext\n",
    "Guess 1: python\n",
    "Incorrect Length. Please input a word that is 5 characters long.\n",
    "Guess 1: fun\n",
    "Incorrect Length. Please input a word that is 5 characters long.\n",
    "Guess 1: house\n",
    "⬛⬛⬛⬛🟨\n",
    "```"
   ]
  },
  {
   "cell_type": "code",
   "execution_count": null,
   "metadata": {},
   "outputs": [],
   "source": [
    "word = generate_word()\n",
    "# Write your code here!"
   ]
  },
  {
   "cell_type": "markdown",
   "metadata": {},
   "source": [
    "## Task 5: Validate guesses (English)\n",
    "What happens when we type in a non-english word (e.g. asdfg)? Try it on your own code. \n",
    "\n",
    "Well, it accepts the input. In the Wordle game, this shouldn't happen. Only English words should be allowed.\n",
    "\n",
    "Fortunately, we have a helper function that is really useful here! `is_english_word()` checks whether the word is in the english dictioanry. Here is an example. "
   ]
  },
  {
   "cell_type": "code",
   "execution_count": null,
   "metadata": {},
   "outputs": [],
   "source": [
    "if is_english_word(\"test\"):\n",
    "\tprint(\"test is an english word\") # printed\n",
    "else:\n",
    "\tprint(\"test is not an english word\")\n",
    "\n",
    "if is_english_word(\"asdbe\"):\n",
    "\tprint(\"asdbe is an english word\")\n",
    "else:\n",
    "\tprint(\"asdbe is  not an english word\") # printed"
   ]
  },
  {
   "cell_type": "markdown",
   "metadata": {},
   "source": [
    "Edit your current program such that this wordle game only accepts valid english words. \\\n",
    "Like Task 4, it should also keep prompting the user that their guess is not an english word until the user gives a valid english word, where we will finally count that as an attempt and output the tiles.\n",
    "\n",
    "**Example Output:**\n",
    "```plaintext\n",
    "Guess 1: huoes\n",
    "Invalid word. Please enter a valid english word.\n",
    "Guess 1: houes\n",
    "Invalid word. Please enter a valid english word.\n",
    "Guess 1: house\n",
    "⬛⬛⬛⬛🟨\n",
    "```"
   ]
  },
  {
   "cell_type": "code",
   "execution_count": null,
   "metadata": {},
   "outputs": [],
   "source": [
    "word = generate_word()\n",
    "# Write your code here!"
   ]
  },
  {
   "cell_type": "markdown",
   "metadata": {},
   "source": [
    "## Task 6: Output winner\n",
    "As of right now, the game just ends when you guess the word correctly or when your have used up all 6 attempts, let us output something more useful!\n",
    "\n",
    "If lose: output `You lose! The word was xxxxx`\\\n",
    "If win: output `You win! you took x out of 6 attempts!`"
   ]
  },
  {
   "cell_type": "code",
   "execution_count": null,
   "metadata": {},
   "outputs": [],
   "source": [
    "word = generate_word()\n",
    "# Write your code here!"
   ]
  },
  {
   "cell_type": "markdown",
   "metadata": {},
   "source": [
    "## Task 7: Share Results (*Supplementary*)\n",
    "There is a share function in Wordle that allows players to share their wordle attempt without revealing their word. Lets implement something similiar.\n",
    "\n",
    "![Untitled](https://encrypted-tbn0.gstatic.com/images?q=tbn:ANd9GcSYkSO1OVYnVO_OM_teIPL-1Sr0ugfLpnQ__A&usqp=CAU)\n"
   ]
  },
  {
   "cell_type": "markdown",
   "metadata": {},
   "source": [
    "**Example Output:**\n",
    "```plaintext\n",
    "Guess 1: house\n",
    "🟨⬛⬛⬛⬛\n",
    "Guess 2: chant\n",
    "🟩🟨🟨⬛🟨\n",
    "Guess 3: catch\n",
    "🟩🟩🟩🟩🟩\n",
    "Do you want to share your results[y/n]: y\n",
    "Wordle Result 3/6\n",
    "🟨⬛⬛⬛⬛\n",
    "🟩🟨🟨⬛🟨\n",
    "🟩🟩🟩🟩🟩\n",
    "```"
   ]
  },
  {
   "cell_type": "code",
   "execution_count": null,
   "metadata": {},
   "outputs": [],
   "source": [
    "word = generate_word()\n",
    "# Write your code here!"
   ]
  },
  {
   "cell_type": "markdown",
   "metadata": {},
   "source": [
    "# Optional Game Modifications\n",
    "Now that you have finished the main wordle program, we can now code up some modifications to our current wordle program!\n",
    "\n",
    "Here are some game modifications not present in the original wordle game to make it more interesting. \n",
    "1. Repeated Wordle Play (Difficulty: Low)\n",
    "2. Wordle Timer (Difficulty: Medium)\n",
    "3. Hints (Difficulty: High)\n",
    "\n",
    "You can add multiple of them if you want, just work on them one at a time!"
   ]
  },
  {
   "cell_type": "markdown",
   "metadata": {},
   "source": [
    "## Mod 1: Repeated Wordle Play (Low Difficulty)\n",
    "Allow wordle to be played repeatedly. \n",
    "\n",
    "After every game is played, the program should ask the user if he wants to play again. \n",
    "\n",
    "The entire program should run until the user says he does not want to play anymore"
   ]
  },
  {
   "cell_type": "code",
   "execution_count": null,
   "metadata": {},
   "outputs": [],
   "source": [
    "word = generate_word()\n",
    "# Write your code here!"
   ]
  },
  {
   "cell_type": "markdown",
   "metadata": {},
   "source": [
    "## Mod 2: Wordle Timer (Medium Difficulty)\n",
    "This game modificaiton will time your Wordle attempt.\n",
    "\n",
    "There will be 2 helper functions to help you, `start_timer()` and `get_elapsed_timer()`.\n",
    "\n",
    "1. `start_timer()` will start a timer\n",
    "2. `get_elapsed_time()` will return the time taken between `start_timer()` and `get_elapsed_time()`\n",
    "\n",
    "Here is an example usage:"
   ]
  },
  {
   "cell_type": "code",
   "execution_count": null,
   "metadata": {},
   "outputs": [],
   "source": [
    "start_timer() # timer starts\n",
    "for i in range(100):\n",
    "\tprint(i)\n",
    "duration = get_elapsed_time() # timer ends\n",
    "\n",
    "\n",
    "print(f\"It took {duration}s for python to print 0 to 100\")"
   ]
  },
  {
   "cell_type": "markdown",
   "metadata": {},
   "source": [
    "However, it outputs the time in seconds, can we display it in hours, minutes and seconds?\n",
    "\n",
    "Moreover, here are some aspects that you may want to consider\n",
    "1. How do we ensure that the time is not recorded when the user fails to solve the wordle?\n",
    "2. How do we get rid of the decimal points of the seconds?\n",
    "\n",
    "<details>\n",
    "    <summary>Hint: How do we calculate the time in hours, minutes and seconds?</summary>\n",
    "    Refer back to Chapter 2: IO variables and arithmetics - coin change calculator\n",
    "</details>"
   ]
  },
  {
   "cell_type": "code",
   "execution_count": null,
   "metadata": {},
   "outputs": [],
   "source": [
    "word = generate_word()\n",
    "# Write your code here!"
   ]
  },
  {
   "cell_type": "markdown",
   "metadata": {},
   "source": [
    "## Mod 3: Wordle Hints (High Difficulty)\n",
    "When players are stuck, allow players to ask for a hint. The hint will take away **two** attempts from the user. For example, if the user uses two hints at the start of the game, they can only guess 2 more times. \n",
    "\n",
    "There will be a helper function that will help you! The helper function `hint()` takes in two values: the answer, and a list of previous guesses. It will evaluate to a string that has black tiles in place of characters that were not guessed (e.g.`\"a⬛o⬛e\"`), except that a new character and its position is revealed!\n",
    "\n",
    "Here is an example usage:"
   ]
  },
  {
   "cell_type": "code",
   "execution_count": null,
   "metadata": {},
   "outputs": [],
   "source": [
    "answer = \"mouse\"\n",
    "previous_answers = [\"taste\", \"matte\"]\n",
    "print(hint(previous_answers, answer)) # in this case, \"u\" is the new character that is given"
   ]
  },
  {
   "cell_type": "markdown",
   "metadata": {},
   "source": [
    "Moreover, here are some aspects for you to consider\n",
    "1. how do we show the user that their max number of attempts decreased?\n",
    "2. How do validate that the user has enough attempts left to use a hint?\n",
    "3. how do we make sure that the 'share' function shows that hints were used?"
   ]
  },
  {
   "cell_type": "code",
   "execution_count": null,
   "metadata": {},
   "outputs": [],
   "source": [
    "word = generate_word()\n",
    "# Write your code here!"
   ]
  }
 ],
 "metadata": {
  "kernelspec": {
   "display_name": "Python 3 (ipykernel)",
   "language": "python",
   "name": "python3"
  },
  "language_info": {
   "codemirror_mode": {
    "name": "ipython",
    "version": 3
   },
   "file_extension": ".py",
   "mimetype": "text/x-python",
   "name": "python",
   "nbconvert_exporter": "python",
   "pygments_lexer": "ipython3",
   "version": "3.12.3"
  }
 },
 "nbformat": 4,
 "nbformat_minor": 4
}
