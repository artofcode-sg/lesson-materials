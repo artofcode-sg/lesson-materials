{
 "cells": [
  {
   "cell_type": "markdown",
   "id": "533ea9a4-ed47-40ed-8213-b5c4d401d2b4",
   "metadata": {},
   "source": [
    "![Art of Code banner](https://github.com/artofcode-sg/lesson-materials/blob/main/notebook-assets/aoc-banner.png?raw=true)\n",
    "\n",
    "# For loops\n",
    "\n",
    "**Table of contents**\n",
    "1. Counting\n",
    "2. Ranged for-loops\n",
    "3. Modulo refresher\n",
    "4. Fizzbuzz program\n",
    "5. Scissors paper stone"
   ]
  },
  {
   "cell_type": "markdown",
   "id": "d7d1b6c6",
   "metadata": {},
   "source": [
    "## 1. Counting \n",
    "To build up to FizzBuzz, let's use a `while` loop to write a program that counts from 1 to 100."
   ]
  },
  {
   "cell_type": "code",
   "execution_count": null,
   "id": "3822f5b1",
   "metadata": {},
   "outputs": [],
   "source": [
    "# REPLACE ME with your counting code!"
   ]
  },
  {
   "cell_type": "markdown",
   "id": "88bd5dce",
   "metadata": {},
   "source": [
    "## 2. Ranged for-loops\n",
    "For loops are a way to step through (*\"iteratate through\"*) items in a sequence while running a piece of code once **for each item in the sequence**.\n",
    "\n",
    "Run the code below to find out what it does!"
   ]
  },
  {
   "cell_type": "code",
   "execution_count": null,
   "id": "f80fb856",
   "metadata": {},
   "outputs": [],
   "source": [
    "# The syntax for ranges is:\n",
    "# range(start, stop)\n",
    "for i in range(1, 4):\n",
    "    print(f\"i is now {i}\")"
   ]
  },
  {
   "cell_type": "markdown",
   "id": "8a610440",
   "metadata": {},
   "source": [
    "<details>\n",
    "    <summary><strong>Tip:</strong> Default <code>start</code> values</summary>\n",
    "    <br>We can also use <code>range(4)</code> to create a sequence that starts at <code>0</code> and ends at <code>3</code>, since the default value for <code>start</code> is <code>0</code>.\n",
    "</details>\n",
    "\n",
    "\\\n",
    "In the cell below, re-write your code from **1. Counting** to use a `for` loop instead of a `while` loop."
   ]
  },
  {
   "cell_type": "code",
   "execution_count": null,
   "id": "4d6e57d8-706d-444e-bfee-09e631669e55",
   "metadata": {},
   "outputs": [],
   "source": [
    "# REPLACE ME with your counting code that uses a for loop!"
   ]
  },
  {
   "cell_type": "markdown",
   "id": "f0fc989b",
   "metadata": {},
   "source": [
    "## 3. Modulo Refresher\n",
    "Modulo (`%`) is used to find the remainder of a division. Modify the code below to see how the output changes!"
   ]
  },
  {
   "cell_type": "code",
   "execution_count": null,
   "id": "6017edb5",
   "metadata": {},
   "outputs": [],
   "source": [
    "# CHANGE THE VALUES of these variables to see how the output changes\n",
    "a = 11\n",
    "b = 5\n",
    "\n",
    "print(f\"The remainder of {a} divided by {b} is {a % b}\")"
   ]
  },
  {
   "cell_type": "markdown",
   "id": "7ba1b4d2",
   "metadata": {},
   "source": [
    "## 4. Fizzbuzz Program\n",
    "Copy-paste your counting code from **2. Ranged for loops** into the cell below, and edit it to output according to the rules of FizzBuzz.\n",
    "\n",
    "| Condition                                | Output     |\n",
    "| ---------------------------------------- | ---------- |\n",
    "| The number is a multiple of 3            | \"Fizz\"     |\n",
    "| The number is a multiple of 5            | \"Buzz\"     |\n",
    "| The number is a multiple of both 3 and 5 | \"FizzBuzz\" |\n",
    "| Otherwise                                | The number |"
   ]
  },
  {
   "cell_type": "code",
   "execution_count": null,
   "id": "d4275590",
   "metadata": {},
   "outputs": [],
   "source": [
    "# REPLACE ME with your FizzBuzz code!"
   ]
  },
  {
   "cell_type": "markdown",
   "id": "8874b0a6",
   "metadata": {},
   "source": [
    "### 4.1. Fizzbuzz game *(Supplementary)*\n",
    "\n",
    "We can improve our fizzbuzz program by doing the following:\n",
    "1. First asking the user for how many numbers they want to play fizzbuzz up to\n",
    "2. The user will then input the numbers/words in the sequence one by one\n",
    "    - If the inputted number is correct, the program will ask the user for the next number/word in the sequence\n",
    "    - If the inputted number is wrong, the program will end, and output what number the user played fizzbuzz until.\n",
    "3. Once the user reaches the end of the sequence, the program will output that the user has won!\n",
    "\n",
    "<details>\n",
    "    <summary><strong>Hint:</strong> </summary>\n",
    "    <ul>\n",
    "        <li>Since you don't know when the program will end, for loops cannot be used, instead a ___ loop should be used.</li>\n",
    "        <li>The while loop condition is dependent on two factors: whether the number guessed is correct, and whether the user has reached the number that he wants to play fizzbuzz until</li>\n",
    "        <ul>\n",
    "            <li>Because of this, we need to prompt the user once outside the loop so that the while loop can actuallly check whether the number guessed was correct</li> \n",
    "        </ul>\n",
    "        <li>Every iteration of the loop will involve the program checking whether number inputted is correct or wrong, incrementing it by 1, then ask for input</li>\n",
    "    </ul>\n",
    "    <i>TL;DR, the logic of this game is quite similar to the \"password with max tries\" exercise in while loops</i>\n",
    "</details>"
   ]
  },
  {
   "cell_type": "code",
   "execution_count": null,
   "id": "43daa853",
   "metadata": {},
   "outputs": [],
   "source": [
    "# REPLACE ME with your FizzBuzz game code!"
   ]
  },
  {
   "cell_type": "markdown",
   "id": "daf7d146",
   "metadata": {},
   "source": [
    "## 5. Scissors Paper Stone\n",
    "Code a program that allows the user to play scissors-paper-stone.\\\n",
    "The program should:\n",
    "1. Use a for loop\n",
    "2. Ask for the user’s choice\n",
    "3. Generate the opponent’s choice\n",
    "4. Output the result of the match"
   ]
  },
  {
   "cell_type": "code",
   "execution_count": null,
   "id": "7d4d4982",
   "metadata": {},
   "outputs": [],
   "source": [
    "import random\n",
    "\n",
    "# \"Scissors\" is represented by the integer 1\n",
    "#    \"Paper\" is represented by the integer 2\n",
    "#    \"Stone\" is represented by the integer 3\n",
    "\n",
    "# CUT AND PASTE the line below to wherever you need it\n",
    "bot_choice = random.randint(1, 3)  # This assigns a random number between 1 and 3 (inclusive) to \"bot_choice\"\n",
    "\n",
    "# REPLACE ME with your scissors-paper-stone code!"
   ]
  },
  {
   "cell_type": "markdown",
   "id": "0154f99d",
   "metadata": {},
   "source": [
    "### 5.1. Scissors Paper Stone Best of Three *(Supplementary)*\n",
    "\n",
    "We can improve our program by modifying it to tell the player whether they won, lost or tied overall after playing three rounds of scissors paper stone.\n",
    "\n",
    "<details>\n",
    "    <summary><strong>Hint:</strong> </summary>\n",
    "    <br>Use a variable to store the number of times the player has won and lost and update it each round\n",
    "    <br>When the no. of matches the player won > the no. of matches lost, they have won overall.\n",
    "    <br>When the no. of matches the player won < the no. of matches lost, they have lost overall.\n",
    "    <br>When the no. of matches the player won is the same as the no. of matches lost, they have tied overall.\n",
    "</details>"
   ]
  },
  {
   "cell_type": "code",
   "execution_count": null,
   "id": "56735297",
   "metadata": {},
   "outputs": [],
   "source": [
    "# REPLACE ME with your existing code from above and modify it to add the best of three system!"
   ]
  },
  {
   "cell_type": "markdown",
   "id": "545c480e",
   "metadata": {},
   "source": [
    "### 5.2. Scissors Paper Stone Alternative *(Supplementary)*\n",
    "We can further shorten our scissors paper stone program by implementing a more mathematical solution.\n",
    "<details>\n",
    "    <summary><strong>Hint:</strong> </summary>\n",
    "    <br>A tie occurs when <code>bot_choice == your choice</code> \n",
    "    <br>A win occurs when <code>bot_choice - your_choice == ? or bot_choice - your_choice == ?</code> \n",
    "    <br>A loss occurs when anything else happens.\n",
    "</details>\n"
   ]
  },
  {
   "cell_type": "code",
   "execution_count": null,
   "id": "6c3112bf",
   "metadata": {},
   "outputs": [],
   "source": [
    "import random\n",
    "\n",
    "# \"Scissors\" is represented by the integer 1\n",
    "#    \"Paper\" is represented by the integer 2\n",
    "#    \"Stone\" is represented by the integer 3\n",
    "\n",
    "# CUT AND PASTE the line below to wherever you need it\n",
    "bot_choice = random.randint(1, 3)  # This assigns a random number between 1 and 3 (inclusive) to \"bot_choice\"\n",
    "\n",
    "# REPLACE ME with your scissors-paper-stone code!"
   ]
  },
  {
   "cell_type": "markdown",
   "id": "7810b480-465a-4568-b9f2-6cd40b9b9d2c",
   "metadata": {},
   "source": [
    "\\\n",
    "\\\n",
    "Download the next lesson notebook (*lists*) **[here](https://github.com/artofcode-sg/lesson-materials/blob/main/notebooks/%5B5%5D%20Lists.ipynb)**!"
   ]
  }
 ],
 "metadata": {
  "kernelspec": {
   "display_name": "Python 3 (ipykernel)",
   "language": "python",
   "name": "python3"
  },
  "language_info": {
   "codemirror_mode": {
    "name": "ipython",
    "version": 3
   },
   "file_extension": ".py",
   "mimetype": "text/x-python",
   "name": "python",
   "nbconvert_exporter": "python",
   "pygments_lexer": "ipython3",
   "version": "3.12.3"
  }
 },
 "nbformat": 4,
 "nbformat_minor": 5
}
