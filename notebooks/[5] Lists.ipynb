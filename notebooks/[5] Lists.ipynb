{
 "cells": [
  {
   "cell_type": "markdown",
   "id": "0a9aa6bd-cb53-41f7-bf29-71ec5d22d97f",
   "metadata": {},
   "source": [
    "![Art of Code banner](https://github.com/artofcode-sg/lesson-materials/blob/main/notebook-assets/aoc-banner.png?raw=true)\n",
    "\n",
    "# Lists\n",
    "\n",
    "**Table of contents**\n",
    "1. Indexing\n",
    "2. Iteration\n",
    "3. Basic to-do list\n",
    "5. Appending and popping\n",
    "6. Improved to-do list"
   ]
  },
  {
   "cell_type": "markdown",
   "id": "6dab78ac-4d3a-4aa7-adda-56715787afbf",
   "metadata": {},
   "source": [
    "## 1. Indexing\n",
    "\n",
    "We can refer to a specific element of a list with `[ ]` syntax."
   ]
  },
  {
   "cell_type": "code",
   "execution_count": null,
   "id": "a4fe75ca-5bdd-4747-9a83-d5c43cd0b7a4",
   "metadata": {},
   "outputs": [],
   "source": [
    "fruits = [\"apple\", \"banana\", \"cherry\"]\n",
    "\n",
    "# FIX THE BUG HERE to make the output \"apple\" instead of \"banana\"\n",
    "print(f\"The first fruit in my list is {fruits[1]}\")\n",
    "\n",
    "# WRITE YOUR CODE BELOW to:\n",
    "#   1. Change the first element from \"apple\" to \"avocado\"\n",
    "#   2. Print the updated list\n"
   ]
  },
  {
   "cell_type": "markdown",
   "id": "4abddce6-efcf-4fcf-bcb8-71c4a56f6de5",
   "metadata": {},
   "source": [
    "Lists can store any data type, such as strings, floats, and integers."
   ]
  },
  {
   "cell_type": "code",
   "execution_count": null,
   "id": "24f9c42a-7536-4787-83ee-b05c926b2eea",
   "metadata": {},
   "outputs": [],
   "source": [
    "prime_numbers = [2, 3, 5, 7, 11]\n",
    "print(f\"The third prime number is {prime_numbers[2]}\")\n",
    "\n",
    "coin_denominations = [0.05, 0.10, 0.20, 0.50, 1.00]\n",
    "print(f\"The smallest coin denomination is ${coin_denominations[0]}\")"
   ]
  },
  {
   "cell_type": "markdown",
   "id": "db37ff6f-3f8b-4dca-bdb7-73a887b5ed15",
   "metadata": {},
   "source": [
    "In some ways, strings can be treated as lists of characters. Run the code below, and change it to make the output \"I keep my cookies in a jar\"."
   ]
  },
  {
   "cell_type": "code",
   "execution_count": null,
   "id": "cbf35f69-aded-47b1-a9c9-ca574318ffa5",
   "metadata": {},
   "outputs": [],
   "source": [
    "alphabet = \"abcdefghijklmnopqrstuvwxyz\"\n",
    "# CHANGE THE INDEX BELOW to announce that you keep your cookies in a jar 🫙\n",
    "starting_letter_index = 2\n",
    "starting_letter = alphabet[starting_letter_index]\n",
    "\n",
    "print(f\"I keep my cookies in a {starting_letter}ar\")"
   ]
  },
  {
   "cell_type": "markdown",
   "id": "8132108b-63cb-4739-8b1d-b256f15a7fa8",
   "metadata": {},
   "source": [
    "## 2. Iteration\n",
    "\n",
    "We can use `for` loops to run a piece of code for each element in a list. In technical terms, we're *iterating* through the list."
   ]
  },
  {
   "cell_type": "code",
   "execution_count": null,
   "id": "e261e648-dcc4-4169-83d2-e79217e84bd3",
   "metadata": {},
   "outputs": [],
   "source": [
    "names = [\"Anastasia\", \"Bobby\", \"Cayden\"]\n",
    "\n",
    "for n in names:\n",
    "    print(f\"Hi, {n}!\")"
   ]
  },
  {
   "cell_type": "markdown",
   "id": "7735caff-642b-4641-bdec-bbd8032c8488",
   "metadata": {},
   "source": [
    "In the code cell below, use a `for` loop to output the following:\n",
    "\n",
    "```plaintext\n",
    "I need to buy apples\n",
    "I need to buy bananas\n",
    "I need to buy cherries\n",
    "```"
   ]
  },
  {
   "cell_type": "code",
   "execution_count": null,
   "id": "83b70c0d-8487-4564-9273-662d996a61bb",
   "metadata": {},
   "outputs": [],
   "source": [
    "fruits = [\"apples\", \"bananas\", \"cherries\"]\n",
    "\n",
    "# WRITE YOUR FOR LOOP BELOW\n"
   ]
  },
  {
   "cell_type": "markdown",
   "id": "ce7c80f2-d877-40de-877b-8f997ca9e37b",
   "metadata": {},
   "source": [
    "`for` loops that use `range()` are similar to `for` loops that use lists. For example,\\\n",
    "`range(1, 5)` can also be written as `[1, 2, 3, 4]`. Run the code below to demonstrate this.\n",
    "\n",
    "<small>* Technically, `range()` is more memory-efficient than a list of numbers, but the purpose of the code below is just to demonstrate the concept of iteration.</small>"
   ]
  },
  {
   "cell_type": "code",
   "execution_count": null,
   "id": "ba374d63-8b40-46a1-b9eb-e962b6002b65",
   "metadata": {},
   "outputs": [],
   "source": [
    "numbers = [1, 2, 3, 4]\n",
    "\n",
    "for num in numbers:\n",
    "    print(f\"The current number (from the list) is {num}\")\n",
    "\n",
    "for num in range(1, 5):\n",
    "    print(f\"The current number (from range()) is {num}\")"
   ]
  },
  {
   "cell_type": "markdown",
   "id": "a3f418aa-950b-498c-aa3a-7df1477869f6",
   "metadata": {},
   "source": [
    "We can also use `for` loops to iterate through strings."
   ]
  },
  {
   "cell_type": "code",
   "execution_count": null,
   "id": "9cc1bd05-496a-4ed6-a1e7-9e9b256169dd",
   "metadata": {},
   "outputs": [],
   "source": [
    "greeting = \"Hello!\"\n",
    "\n",
    "for character in greeting:\n",
    "    print(character)"
   ]
  },
  {
   "cell_type": "markdown",
   "id": "d65e12f8-81b2-4e41-9e2d-b6ef4e6022f5",
   "metadata": {},
   "source": [
    "If we want to iterate through a list while knowing the index of each element, we can instead iterate\\\n",
    "though `range(length_of_your_list)`, where `length_of_your_list` is the length of your list."
   ]
  },
  {
   "cell_type": "code",
   "execution_count": null,
   "id": "f6165054-e733-4318-b53f-d9a9bc07a36d",
   "metadata": {},
   "outputs": [],
   "source": [
    "favourite_dog_breeds = [\"Golden Retriever\", \"German Shepard\", \"Beagle\", \"Siberian Husky\"]\n",
    "\n",
    "for index in range(4):  # There are 4 elements in favourite_dog_breeds\n",
    "    print(f\"The dog at index {index} is {favourite_dog_breeds[index]}\")"
   ]
  },
  {
   "cell_type": "markdown",
   "id": "75e8b64d-0128-49f0-bc29-524e06b1ef0d",
   "metadata": {},
   "source": [
    "Furthermore, we can use the `len()` function to automatically calculate the number of elements in a list, so that\n",
    "1. We don't need to count the elements manually.\n",
    "2. The number will update automatically if we add or remove elements from the list."
   ]
  },
  {
   "cell_type": "code",
   "execution_count": null,
   "id": "faf8eab3-cbb3-4ea1-b952-70d04155bd01",
   "metadata": {},
   "outputs": [],
   "source": [
    "# EDIT THIS LIST and see how the output changes\n",
    "favourite_dog_breeds = [\"Golden Retriever\", \"German Shepard\", \"Beagle\", \"Siberian Husky\"]\n",
    "\n",
    "print(f\"I have {len(favourite_dog_breeds)} favourite dog breeds\")\n",
    "\n",
    "for index in range(len(favourite_dog_breeds)):\n",
    "    print(f\"The dog at index {index} is {favourite_dog_breeds[index]}\")"
   ]
  },
  {
   "attachments": {},
   "cell_type": "markdown",
   "id": "bc54676c-c82d-4a74-853e-c5502d6578d5",
   "metadata": {},
   "source": [
    "In the code cell below, output all the elements of `things_to_buy` in the form of a numbered list.\\\n",
    "The output should look something like this:\n",
    "```text\n",
    "I have 3 things I need to buy:\n",
    "1. pen\n",
    "2. eraser\n",
    "3. pencil\n",
    "```\n",
    "\n",
    "<details>\n",
    "    <summary><strong>Hint</strong></summary>\n",
    "    Think about how you can make use of the iteration variable (<code>i</code>). It can be used to calculate the number at<br/>\n",
    "    the start of the output line (e.g. <code>i + 1</code>). It can also be used as an index to refer to an element in the list.\n",
    "</details>\n"
   ]
  },
  {
   "cell_type": "code",
   "execution_count": null,
   "id": "b77131bd-44d0-4372-aaa2-4071a2a3a815",
   "metadata": {},
   "outputs": [],
   "source": [
    "things_to_buy = [\"pen\", \"eraser\", \"pencil\"]  # Try adding more things to buy...\n",
    "\n",
    "# MODIFY THE CODE BELOW to make it work regardless of the number of elements in things_to_buy\n",
    "print(\"I have 3 things to buy:\")\n",
    "\n",
    "# WRITE YOUR FOR LOOP BELOW to output the things to buy as a *numbered* list\n"
   ]
  },
  {
   "cell_type": "markdown",
   "id": "eda75c92-1a99-4609-be92-612e20cb2b5b",
   "metadata": {},
   "source": [
    "## 3. Basic to-do list"
   ]
  },
  {
   "cell_type": "markdown",
   "id": "b1fec7fe-1531-4295-ac73-9fe29ca58be8",
   "metadata": {},
   "source": [
    "### 3.1 Printing a numbered list\n",
    "\n",
    "In the code cell below, output all the elements of `to_do` in the form of a numbered list.\\\n",
    "The output should look something like this:\n",
    "```text\n",
    "Things to do:\n",
    "1. Wash dishes\n",
    "2. Feed cat\n",
    "3. Do homework\n",
    "```\n",
    "\n",
    "<details>\n",
    "    <summary><strong>Hint</strong></summary>\n",
    "    Reference your code from <code>things_to_buy</code> exercise above.\n",
    "</details>"
   ]
  },
  {
   "cell_type": "code",
   "execution_count": null,
   "id": "7368883d-730f-4e96-90d4-8c0ffaf8d014",
   "metadata": {},
   "outputs": [],
   "source": [
    "to_do = [\"Wash dishes\", \"Feed cat\", \"Do homework\"]\n",
    "\n",
    "# WRITE YOUR CODE BELOW"
   ]
  },
  {
   "cell_type": "markdown",
   "id": "42b02774-1360-4588-9edb-76dd1b97bb5c",
   "metadata": {},
   "source": [
    "### 3.2 Editing one to-do item\n",
    "\n",
    "In the code cell below, write a program to:\n",
    "1. Ask the user to input an updated to-do (e.g. \"Enter the updated to-do: \")\n",
    "2. Set the first item in the to-do list (i.e. first element of `to_do`) to the item provided by the user\n",
    "3. Output all elements of `to_do` in the form of a numbered list (refer to 3.1)"
   ]
  },
  {
   "cell_type": "code",
   "execution_count": null,
   "id": "41aa43ac-6d49-4b5b-8660-9771834c5850",
   "metadata": {},
   "outputs": [],
   "source": [
    "to_do = [\"Wash dishes\", \"Feed cat\", \"Do homework\"]\n",
    "\n",
    "# WRITE YOUR CODE BELOW"
   ]
  },
  {
   "cell_type": "markdown",
   "id": "ca06b739-5ab6-47ed-924f-0370a0b07c93",
   "metadata": {},
   "source": [
    "### 3.3 Editing any to-do item repeatedly\n",
    "\n",
    "Write your full to-do list program below. The to-do list will contain 3 items at any time.\n",
    "It should repeatedly let the user edit **any** to-do item of their choice until the user is satisfied.\n",
    "This means you'll also have to ask the user which to-do they want to edit before asking them for the updated to-do.\n",
    "\n",
    "<details>\n",
    "    <summary><strong>Hint</strong></summary>\n",
    "    Use a while loop to let the editing run repeatedly. To know which to-do the user wants to edit, you can ask them to enter the number (<code>1</code>, <code>2</code>, or <code>3</code>) of the item. Furthermore, you can write the loop such that it stops when the user enters <code>0</code> as the number of the to-do to edit.\n",
    "</details>"
   ]
  },
  {
   "cell_type": "code",
   "execution_count": null,
   "id": "a7409935-6b50-4fd1-a8f3-d6454fdf3d15",
   "metadata": {},
   "outputs": [],
   "source": [
    "to_do = [\"Wash dishes\", \"Feed cat\", \"Do homework\"]\n",
    "\n",
    "# WRITE YOUR CODE BELOW"
   ]
  },
  {
   "cell_type": "markdown",
   "id": "e226a1f1-611c-4458-b95b-7f6cf9ae950a",
   "metadata": {},
   "source": [
    "## 4. Appending and popping \n"
   ]
  },
  {
   "cell_type": "markdown",
   "id": "728251e1",
   "metadata": {},
   "source": [
    "### 4.1 Appending\n",
    "To add an element to the end of a list, we can use `.append()`.\n",
    "<br>The code in the cell below allows the user to enter their top 5 favourite foods into a list called `favourite_foods`."
   ]
  },
  {
   "cell_type": "code",
   "execution_count": null,
   "id": "f158c344",
   "metadata": {},
   "outputs": [],
   "source": [
    "favourite_foods = []\n",
    "\n",
    "for i in range(5): \n",
    "    food = input(\"Enter a food that you like: \") \n",
    "    favourite_foods.append(food)  # This line adds the user's food to the end of the favourite_foods list\n",
    "    \n",
    "print(f\"My favourite foods are {favourite_foods}\")"
   ]
  },
  {
   "cell_type": "markdown",
   "id": "03181dcf",
   "metadata": {},
   "source": [
    "Add a line of code to the code cell below to append `\"Samuel\"` to the list."
   ]
  },
  {
   "cell_type": "code",
   "execution_count": null,
   "id": "ee939f21-325e-475c-b6e5-604f43086866",
   "metadata": {},
   "outputs": [],
   "source": [
    "students = [\"Ana\", \"Bryan\", \"Jayden\"]\n",
    "print(f\"Initial students: {students}\")\n",
    "\n",
    "# WRITE YOUR CODE BELOW to append \"Samuel\" to the students lists\n",
    "\n",
    "\n",
    "print(f\"Updated students: {students}\")"
   ]
  },
  {
   "cell_type": "markdown",
   "id": "575e6767",
   "metadata": {},
   "source": [
    "### 4.2 Popping\n",
    "To remove any element from a list, we can use `.pop()`, which removes the element at the specified position.\n",
    "\n",
    "\"Elephant\" is not a dessert, so the code in the cell below removes it from the `desserts` list."
   ]
  },
  {
   "cell_type": "code",
   "execution_count": null,
   "id": "32f74030",
   "metadata": {},
   "outputs": [],
   "source": [
    "desserts = [\"Souffle\", \"Tiramisu\", \"Strawberry Cake\", \"Elephant\", \"Mango Pudding\", \"Ice Cream\"]\n",
    "\n",
    "print(f\"Initial desserts: {desserts}\")\n",
    "\n",
    "# This removes the element at index 3 (\"Elephant\")\n",
    "index_of_elephant = 3\n",
    "desserts.pop(index_of_elephant)\n",
    "\n",
    "print(\"Everything in the list is now a dessert\")\n",
    "print(f\"Updated desserts: {desserts}\")"
   ]
  },
  {
   "cell_type": "markdown",
   "id": "1dc17b81",
   "metadata": {},
   "source": [
    "If no index is given to `.pop()`, it removes the last element of that list.\n",
    "<br>The code in the cell below shows another example of `.pop()`."
   ]
  },
  {
   "cell_type": "code",
   "execution_count": null,
   "id": "926e4263",
   "metadata": {},
   "outputs": [],
   "source": [
    "colours = [\"red\", \"orange\", \"purple\", \"blue\", \"pink\", \"flamingo\"]\n",
    "\n",
    "print(f\"Initial colours: {colours}\")\n",
    "colours.pop()\n",
    "\n",
    "print(f\"Updated colours: {colours}\")"
   ]
  },
  {
   "cell_type": "markdown",
   "id": "79add3ce-8bbd-4cd2-8b99-19dcbaea2450",
   "metadata": {},
   "source": [
    "The code below defines a `squares` list, but there's a problem... Add a line of code (don't modify the first line) to pop `23` from the list."
   ]
  },
  {
   "cell_type": "code",
   "execution_count": null,
   "id": "d7f7a370-f5d2-4cad-88e9-829efc94d9f1",
   "metadata": {},
   "outputs": [],
   "source": [
    "squares = [1, 4, 9, 16, 23]  # 23 isn't a square...\n",
    "print(f\"Here's my list of squares: {squares}\")\n",
    "print(\"Hmm... something's not right with the list\")\n",
    "\n",
    "# WRITE YOUR CODE BELOW to pop 23 from the list\n",
    "\n",
    "\n",
    "print(f\"These are the correct square numbers: {squares}\")"
   ]
  },
  {
   "cell_type": "markdown",
   "id": "794d2d9e-2fe8-4e4b-b253-47a5e81a2385",
   "metadata": {},
   "source": [
    "## 5. Improved to-do list \n",
    "\n",
    "In addition to editing to-dos, we also want to allow the user to add and remove to-dos. Copy-paste your code from **3. Basic to-do list** into the code cell below, and use popping and appending to implement this new functionality."
   ]
  },
  {
   "cell_type": "code",
   "execution_count": null,
   "id": "528ad340-16f8-421c-aa4d-a26f74dcc363",
   "metadata": {},
   "outputs": [],
   "source": [
    "# COPY-PASTE your basic to-do list program this cell"
   ]
  },
  {
   "cell_type": "markdown",
   "id": "a48ff24f",
   "metadata": {},
   "source": [
    "### 5.1. Improved to-do list with number validation *(Supplementary)*\n",
    "\n",
    "Currently, the user will enter a number at the following points:\n",
    "1. When choosing what they want to do today (adding a to-do, editing a to-do, etc)\n",
    "2. When choosing which to-do to edit (when user chooses to edit a to-do)\n",
    "3. When choosing which to-do to mark as done (when user chooses to mark a to-do as done)\n",
    "\n",
    "Now, whenever the user enters an *invalid* number (i.e. they input `10` but the to-do list only contains five items), let's **ask the user to enter their input again**. We should continue to prompt the user until the user enters a valid number!\n",
    "\n",
    "<details>\n",
    "    <summary><strong>Hint:</strong> </summary>\n",
    "    <ul>\n",
    "        <li>For #1, an invalid input can be handled using an <code>else</code> statement.</li>\n",
    "        <li>For #2 and #3, write a <code>while</code> loop in the <code>if</code> statements that handle those options. It might be helpful to plan this out on paper.</li>\n",
    "    </ul>\n",
    "</details>"
   ]
  },
  {
   "cell_type": "code",
   "execution_count": null,
   "id": "18b7a189",
   "metadata": {},
   "outputs": [],
   "source": [
    "# COPY-PASTE your Improved to-do list program into this cell and add the input validation (for numbers)"
   ]
  },
  {
   "cell_type": "markdown",
   "id": "a7ebcdf2-ec7c-4810-ae4f-94162400aa2d",
   "metadata": {},
   "source": [
    "\\\n",
    "\\\n",
    "Download the next lesson notebook (*Wordle*) **[here](https://github.com/artofcode-sg/lesson-materials/blob/main/notebooks/%5B6%5D%20Wordle.ipynb)**!"
   ]
  }
 ],
 "metadata": {
  "kernelspec": {
   "display_name": "Python 3 (ipykernel)",
   "language": "python",
   "name": "python3"
  },
  "language_info": {
   "codemirror_mode": {
    "name": "ipython",
    "version": 3
   },
   "file_extension": ".py",
   "mimetype": "text/x-python",
   "name": "python",
   "nbconvert_exporter": "python",
   "pygments_lexer": "ipython3",
   "version": "3.12.3"
  }
 },
 "nbformat": 4,
 "nbformat_minor": 5
}
