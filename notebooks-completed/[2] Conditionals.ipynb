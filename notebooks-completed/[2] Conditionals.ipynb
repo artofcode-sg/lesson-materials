{
 "cells": [
  {
   "cell_type": "markdown",
   "id": "a27954de-37a1-4da3-9fae-e6a2d034c432",
   "metadata": {},
   "source": [
    "![Art of Code banner](https://github.com/artofcode-sg/lesson-materials/blob/main/notebook-assets/aoc-banner.png?raw=true)\n",
    "\n",
    "# Conditionals\n",
    "\n",
    "1. `if` statements\n",
    "2. Discount calculator\n",
    "3. Hawker centre plan\n",
    "4. Improved BMI calculator\n",
    "5. Leap year calculator\n",
    "6. Animal classifier (*Supplementary*)\n",
    "\n",
    "A conditional is a programming construct that allows you to control the flow of your code based on certain conditions.\\\n",
    "It evaluates whether a given condition is true or false and executes a block of code only if the condition is true. "
   ]
  },
  {
   "cell_type": "markdown",
   "id": "019c9579-e71e-4447-9d84-650b02ddb39c",
   "metadata": {},
   "source": [
    "## 1. `if` statements\n",
    "\n",
    "In Python, we use `if` statements to implement conditionals."
   ]
  },
  {
   "cell_type": "code",
   "execution_count": null,
   "id": "a19392a2-33a8-49e8-b7e0-369ac89556ba",
   "metadata": {},
   "outputs": [],
   "source": [
    "if 3 > 2:  # This is the condition\n",
    "    print(\"3 is more than 2\") # This is the action taken when the condition is true"
   ]
  },
  {
   "cell_type": "markdown",
   "id": "c0c0390a-a501-40e0-aa40-08e6c934432e",
   "metadata": {
    "jp-MarkdownHeadingCollapsed": true
   },
   "source": [
    "These are some of the comparison operators you can use in the conditions of `if` statements.\n",
    "\n",
    "<table>\n",
    "  <tr>\n",
    "    <th>Math</th>\n",
    "    <th>Description</th>\n",
    "    <th>Python</th>\n",
    "  </tr>\n",
    "  <tr>\n",
    "    <td>a = b</td>\n",
    "    <td>a is equal to b (e.g. 1 = 1)</td>\n",
    "    <td>==</td>\n",
    "  </tr>\n",
    "  <tr>\n",
    "    <td>a > b</td>\n",
    "    <td>a is greater than b (e.g. 2 > 1)</td>\n",
    "    <td>&gt;</td>\n",
    "  </tr>\n",
    "  <tr>\n",
    "    <td>a < b</td>\n",
    "    <td>a is smaller than b (e.g. 1 < 10)</td>\n",
    "    <td>&lt;</td>\n",
    "  </tr>\n",
    "  <tr>\n",
    "    <td>a ≤ b</td>\n",
    "    <td>a is greater than or equal to b (e.g. 20 ≥ 5, 3 ≥ 3)</td>\n",
    "    <td>&gt;=</td>\n",
    "  </tr>\n",
    "  <tr>\n",
    "    <td>a ≤ b</td>\n",
    "    <td>a is smaller than or equal to b (e.g. 10 ≤ 100, 1 ≤ 1)</td>\n",
    "    <td>&lt;=</td>\n",
    "  </tr>\n",
    "  <tr>\n",
    "    <td>a ≠ b</td>\n",
    "    <td>a is not equal to b (e.g. 10 ≠ 100, 2 ≠ 1)</td>\n",
    "    <td>!=</td>\n",
    "  </tr>\n",
    "</table>"
   ]
  },
  {
   "cell_type": "markdown",
   "id": "37e8043f-2639-47ed-bf60-cf77b321e792",
   "metadata": {},
   "source": [
    "## 2. Discount calculator\n",
    "\n",
    "The owner of a hawker centre stall provides discounts for students, and he wants you to create a program that determines whether to apply the discount, or which discount to give.\n",
    "\n",
    "The code cell below contains a basic version of this program - we'll make the following modifications to it:\n",
    "1. Allow the user to input their own age.\n",
    "2. Output something if the user doesn't get a discount.\n",
    "3. Differentiate between child discount and elderly discount."
   ]
  },
  {
   "cell_type": "code",
   "execution_count": null,
   "id": "9b9c6bd6-fa52-4d43-858d-7247d7f58b77",
   "metadata": {},
   "outputs": [],
   "source": [
    "age = int(input(\"What is your age: \"))\n",
    "if age <= 18:\n",
    "    print(\"You're eligible for the child discount\")\n",
    "elif age >= 65:\n",
    "    print(\"You're eligible for the elderly discount\")\n",
    "else:\n",
    "    print(\"Please pay the regular price\")"
   ]
  },
  {
   "cell_type": "markdown",
   "id": "84efdf4b-81d7-45c2-ab49-728ad895160a",
   "metadata": {},
   "source": [
    "Now, the stall owner wants another program to calculate the final price after the discount. Here's his discount scheme:\n",
    "\n",
    "| Condition                                                    | Discount |\n",
    "| ------------------------------------------------------------ | -------- |\n",
    "| The customer is below 18, **and** they're a member.          | 30%      |\n",
    "| The customer is below 18 (and not a member) **or** above 65. | 20%      |\n",
    "\n",
    "\\\n",
    "Our program can use the `and` and `or` operators to determine the appropriate discount.\n",
    "\n",
    "| Syntax                            | Meaning                        |\n",
    "|-----------------------------------|--------------------------------|\n",
    "| `condition1` `and` `condition2`   | Is true when both conditions must be true   |\n",
    "| `condition1` `or` `condition2`    | Is true when at least one condition is true |\n",
    "\n",
    "\\\n",
    "In the cell below, write a program that uses conditionals with `and` and `or` to determine the appropriate discount."
   ]
  },
  {
   "cell_type": "code",
   "execution_count": null,
   "id": "9ec279a7",
   "metadata": {},
   "outputs": [],
   "source": [
    "age = int(input(\"Enter age: \"))\n",
    "is_member = input(\"Are you a member (yes/no): \")\n",
    "price = 15\n",
    "\n",
    "if age <= 18 and is_member == \"yes\":\n",
    "    discount = 0.3\n",
    "elif age <= 18 or age >= 65:\n",
    "    discount = 0.2\n",
    "else:\n",
    "    discount = 0\n",
    "\n",
    "print(f\"The final price is {price * (1-discount)}\")"
   ]
  },
  {
   "cell_type": "markdown",
   "id": "eef13ffd-69f1-4361-8771-3214528c7110",
   "metadata": {},
   "source": [
    "## 3. Hawker centre plan\n",
    "\n",
    "Convert the flowchart of your hawker centre plan into Python code."
   ]
  },
  {
   "cell_type": "code",
   "execution_count": null,
   "id": "37aaa3d6",
   "metadata": {},
   "outputs": [],
   "source": [
    "print(\"You're at a hawker centre\")\n",
    "print(\"Reply to the following questions with 'yes' or 'no'\")\n",
    "\n",
    "hungry = input(\"Am I hungry? \")\n",
    "money = input(\"Do I have money? \")\n",
    "hot = input(\"Is it a hot day? \")\n",
    "\n",
    "if hungry == \"no\":\n",
    "    print(\"Go home\")\n",
    "elif money == \"no\":\n",
    "    print(\"Cry\")\n",
    "elif hot == \"no\":\n",
    "    print(\"Buy Laksa\")\n",
    "else:\n",
    "    print(\"Buy ice cream and waffles\")"
   ]
  },
  {
   "cell_type": "markdown",
   "id": "f30cc082-5820-4063-a0a7-0184e9d0159a",
   "metadata": {},
   "source": [
    "## 4. Improved BMI calculator\n",
    "Create a BMI calculator that:\n",
    "1. Asks the user for their height(cm) and weight(kg)\n",
    "2. Calculates their BMI\n",
    "3. Output the weight category they are in\n",
    "\n",
    "$BMI=\\frac{weight(kg)}{height(m)^2}$"
   ]
  },
  {
   "cell_type": "code",
   "execution_count": null,
   "id": "8324c23a-cb22-43f1-aa83-377c24aababb",
   "metadata": {},
   "outputs": [],
   "source": [
    "weight = float(input(\"What is your weight(kg): \"))\n",
    "height = float(input(\"What is your height(m): \"))\n",
    "bmi = weight / (height * height)\n",
    "\n",
    "if bmi < 18.5:\n",
    "    print(\"Underweight\")\n",
    "elif bmi <= 24.9:\n",
    "    print(\"Healthy Weight\")\n",
    "elif bmi <= 29.9:\n",
    "    print(\"Overweight\")\n",
    "else:\n",
    "    print(\"Obese\")"
   ]
  },
  {
   "cell_type": "markdown",
   "id": "429591dd-0b9d-4fc8-91a0-2c6b404b70aa",
   "metadata": {},
   "source": [
    "## 5. Leap year calculator\n",
    "A leap year is a year that contains an extra day in order to keep the calendar year synchronized with the astronomical year.\\\n",
    "**Leap Year:** A year that has 366 days instead of the usual 365 days.\\\n",
    "**Purpose:** To align the calendar year with the Earth's orbit around the Sun, which takes approximately 365.25 days.\n",
    "\n",
    "**Leap Years**: 2024, 2000, 1600\\\n",
    "**Non-Leap Years**: 2023, 1900, 1800\n",
    "\n",
    "Write a program which asks the user for a year, and output whether the year provided is a leap year or not."
   ]
  },
  {
   "cell_type": "code",
   "execution_count": null,
   "id": "933aff88-4afe-46bb-b6ed-ffcb3eb1084e",
   "metadata": {},
   "outputs": [],
   "source": [
    "# Get the year from the user\n",
    "year = int(input(\"Enter a year: \"))\n",
    "\n",
    "# Determine if it is a leap year\n",
    "if year % 4 == 0 and (year % 100 != 0 or year % 400 == 0):\n",
    "    print(f\"{year} is a leap year\")\n",
    "else:\n",
    "    print(f\"{year} is not a leap year\")"
   ]
  },
  {
   "cell_type": "markdown",
   "id": "6af23e1b-6545-493c-bf37-ee1852201c64",
   "metadata": {},
   "source": [
    "## 6. Animal classifier (*Supplementary*)\n",
    "Write a program that asks the user a series of questions to classify the animal the user is thinking about into one of these 6 categories\n",
    "\n",
    "**Mammals, Insects, Birds, Amphibians, Reptiles, Fishes**\n",
    "\n",
    "Questions:\n",
    "1. How many legs does it have?\n",
    "2. Does it have scales?\n",
    "3. Does it give birth to young live?\n",
    "4.   Does it have gills?\n",
    "5.   Does it have a beak?\n",
    "6.   Is it amphibious?"
   ]
  },
  {
   "cell_type": "code",
   "execution_count": null,
   "id": "44f2cbcf-c1ab-4119-87f7-054fe7ee0eed",
   "metadata": {},
   "outputs": [],
   "source": [
    "print(\"Answer the following questions with 'yes' or 'no'.\")\n",
    "\n",
    "# Question 1\n",
    "legs = int(input(\"How many legs does it have? \"))\n",
    "\n",
    "# Question 2\n",
    "has_scales = input(\"Does it have scales? \")\n",
    "\n",
    "# Question 3\n",
    "gives_birth_to_young_live = input(\"Does it give birth to young live? \")\n",
    "\n",
    "# Question 4\n",
    "has_gills = input(\"Does it have gills? \")\n",
    "\n",
    "# Question 5\n",
    "has_beak = input(\"Does it have a beak? \")\n",
    "\n",
    "# Question 6\n",
    "is_amphibious = input(\"Is it amphibious? \")\n",
    "\n",
    "# Classification logic\n",
    "if legs == 0 and has_gills == \"yes\":\n",
    "    classification = \"Fish\"\n",
    "elif legs == 2 and has_beak == \"yes\":\n",
    "    classification = \"Bird\"\n",
    "elif legs == 4 and is_amphibious == \"yes\":\n",
    "    classification = \"Amphibian\"\n",
    "elif legs == 6 or legs == 8:\n",
    "    classification = \"Insect\"\n",
    "elif legs == 4 and has_scales == \"yes\":\n",
    "    classification = \"Reptile\"\n",
    "elif legs == 4 and gives_birth_to_young_live == \"yes\":\n",
    "    classification = \"Mammal\"\n",
    "else:\n",
    "    classification = \"Unknown\"\n",
    "\n",
    "print(f\"The animal you are thinking of is classified as: {classification}\")"
   ]
  },
  {
   "cell_type": "markdown",
   "id": "7c0cfa0c-2a8f-40f6-991f-10b8625cde52",
   "metadata": {},
   "source": [
    "\\\n",
    "\\\n",
    "Download the next lesson notebook (*While loops*) **[here](https://github.com/artofcode-sg/lesson-materials/blob/main/notebooks/%5B3%5D%20While%20loops.ipynb)**!"
   ]
  }
 ],
 "metadata": {
  "kernelspec": {
   "display_name": "Python 3 (ipykernel)",
   "language": "python",
   "name": "python3"
  },
  "language_info": {
   "codemirror_mode": {
    "name": "ipython",
    "version": 3
   },
   "file_extension": ".py",
   "mimetype": "text/x-python",
   "name": "python",
   "nbconvert_exporter": "python",
   "pygments_lexer": "ipython3",
   "version": "3.12.3"
  }
 },
 "nbformat": 4,
 "nbformat_minor": 5
}
