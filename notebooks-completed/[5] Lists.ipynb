{
 "cells": [
  {
   "cell_type": "markdown",
   "id": "0a9aa6bd-cb53-41f7-bf29-71ec5d22d97f",
   "metadata": {},
   "source": [
    "![Art of Code banner](https://github.com/artofcode-sg/lesson-materials/blob/main/notebook-assets/aoc-banner.png?raw=true)\n",
    "\n",
    "# Lists\n",
    "\n",
    "**Table of contents**\n",
    "1. Indexing\n",
    "2. Iteration\n",
    "3. Basic to-do list\n",
    "4. Caesar cipher\n",
    "5. Appending and popping\n",
    "6. Improved to-do list"
   ]
  },
  {
   "cell_type": "markdown",
   "id": "6dab78ac-4d3a-4aa7-adda-56715787afbf",
   "metadata": {},
   "source": [
    "## 1. Indexing\n",
    "\n",
    "We can refer to a specific element of a list with `[ ]` syntax."
   ]
  },
  {
   "cell_type": "code",
   "execution_count": null,
   "id": "a4fe75ca-5bdd-4747-9a83-d5c43cd0b7a4",
   "metadata": {},
   "outputs": [],
   "source": [
    "fruits = [\"apple\", \"banana\", \"cherry\"]\n",
    "\n",
    "# FIX THE BUG HERE to make the output \"apple\" instead of \"banana\"\n",
    "print(f\"The first fruit in my list is {fruits[1]}\")\n",
    "\n",
    "# WRITE YOUR CODE BELOW to:\n",
    "#   1. Change the first element from \"apple\" to \"avocado\"\n",
    "#   2. Print the updated list\n",
    "fruits[0] = \"avocado\"\n",
    "print(fruits)\n"
   ]
  },
  {
   "cell_type": "markdown",
   "id": "4abddce6-efcf-4fcf-bcb8-71c4a56f6de5",
   "metadata": {},
   "source": [
    "Lists can store any data type, such as strings, floats, and integers."
   ]
  },
  {
   "cell_type": "code",
   "execution_count": null,
   "id": "24f9c42a-7536-4787-83ee-b05c926b2eea",
   "metadata": {},
   "outputs": [],
   "source": [
    "prime_numbers = [2, 3, 5, 7, 11]\n",
    "print(f\"The third prime number is {prime_numbers[2]}\")\n",
    "\n",
    "coin_denominations = [0.05, 0.10, 0.20, 0.50, 1.00]\n",
    "print(f\"The smallest coin denomination is ${coin_denominations[0]}\")"
   ]
  },
  {
   "cell_type": "markdown",
   "id": "db37ff6f-3f8b-4dca-bdb7-73a887b5ed15",
   "metadata": {},
   "source": [
    "In some ways, strings can be treated as lists of characters. Run the code below, and change it to make the output \"I keep my cookies in a jar\"."
   ]
  },
  {
   "cell_type": "code",
   "execution_count": null,
   "id": "cbf35f69-aded-47b1-a9c9-ca574318ffa5",
   "metadata": {},
   "outputs": [],
   "source": [
    "alphabet = \"abcdefghijklmnopqrstuvwxyz\"\n",
    "# CHANGE THE INDEX BELOW to announce that you keep your cookies in a jar 🫙\n",
    "starting_letter_index = 9\n",
    "starting_letter = alphabet[starting_letter_index]\n",
    "\n",
    "print(f\"I keep my cookies in a {starting_letter}ar\")"
   ]
  },
  {
   "cell_type": "markdown",
   "id": "8132108b-63cb-4739-8b1d-b256f15a7fa8",
   "metadata": {},
   "source": [
    "## 2. Iteration\n",
    "\n",
    "We can use `for` loops to run a piece of code for each element in a list. In technical terms, we're *iterating* through the list."
   ]
  },
  {
   "cell_type": "code",
   "execution_count": null,
   "id": "e261e648-dcc4-4169-83d2-e79217e84bd3",
   "metadata": {},
   "outputs": [],
   "source": [
    "names = [\"Anastasia\", \"Bobby\", \"Cayden\"]\n",
    "\n",
    "for n in names:\n",
    "    print(f\"Hi, {n}!\")"
   ]
  },
  {
   "cell_type": "markdown",
   "id": "7735caff-642b-4641-bdec-bbd8032c8488",
   "metadata": {},
   "source": [
    "In the code cell below, use a `for` loop to output the following:\n",
    "\n",
    "```plaintext\n",
    "I need to buy apples\n",
    "I need to buy bananas\n",
    "I need to buy cherries\n",
    "```"
   ]
  },
  {
   "cell_type": "code",
   "execution_count": null,
   "id": "83b70c0d-8487-4564-9273-662d996a61bb",
   "metadata": {},
   "outputs": [],
   "source": [
    "fruits = [\"apples\", \"bananas\", \"cherries\"]\n",
    "\n",
    "# WRITE YOUR FOR LOOP BELOW\n",
    "for fruit in fruits:\n",
    "    print(f\"I need to buy {fruit}\")"
   ]
  },
  {
   "cell_type": "markdown",
   "id": "ce7c80f2-d877-40de-877b-8f997ca9e37b",
   "metadata": {},
   "source": [
    "`for` loops that use `range()` are similar to `for` loops that use lists. For example,\\\n",
    "`range(1, 5)` can also be written as `[1, 2, 3, 4]`. Run the code below to demonstrate this.\n",
    "\n",
    "<small>* Technically, `range()` is more memory-efficient than a list of numbers, but the purpose of the code below is just to demonstrate the concept of iteration.</small>"
   ]
  },
  {
   "cell_type": "code",
   "execution_count": null,
   "id": "ba374d63-8b40-46a1-b9eb-e962b6002b65",
   "metadata": {},
   "outputs": [],
   "source": [
    "numbers = [1, 2, 3, 4]\n",
    "\n",
    "for num in numbers:\n",
    "    print(f\"The current number (from the list) is {num}\")\n",
    "\n",
    "for num in range(1, 5):\n",
    "    print(f\"The current number (from range()) is {num}\")"
   ]
  },
  {
   "cell_type": "markdown",
   "id": "a3f418aa-950b-498c-aa3a-7df1477869f6",
   "metadata": {},
   "source": [
    "We can also use `for` loops to iterate through strings."
   ]
  },
  {
   "cell_type": "code",
   "execution_count": null,
   "id": "9cc1bd05-496a-4ed6-a1e7-9e9b256169dd",
   "metadata": {},
   "outputs": [],
   "source": [
    "greeting = \"Hello!\"\n",
    "\n",
    "for character in greeting:\n",
    "    print(character)"
   ]
  },
  {
   "attachments": {},
   "cell_type": "markdown",
   "id": "bc54676c-c82d-4a74-853e-c5502d6578d5",
   "metadata": {},
   "source": [
    "In the code cell below, output all the elements of `things_to_buy` in the form of a numbered list.\\\n",
    "The output should look something like this:\n",
    "```text\n",
    "I have 3 things I need to buy:\n",
    "1. pen\n",
    "2. eraser\n",
    "3. pencil\n",
    "```\n",
    "\n",
    "<details>\n",
    "    <summary><strong>Hint</strong></summary>\n",
    "    Think about how you can make use of the iteration variable (<code>i</code>). It can be used to calculate the number at<br/>\n",
    "    the start of the output line (e.g. <code>i + 1</code>). It can also be used as an index to refer to an element in the list.\n",
    "</details>\n"
   ]
  },
  {
   "cell_type": "code",
   "execution_count": null,
   "id": "b77131bd-44d0-4372-aaa2-4071a2a3a815",
   "metadata": {},
   "outputs": [],
   "source": [
    "things_to_buy = [\"pen\", \"eraser\", \"pencil\"]  # Try adding more things to buy...\n",
    "\n",
    "# Will this still make sense if you add more elements to the list?\n",
    "print(\"I have 3 things to buy:\")\n",
    "length = len(things_to_buy)\n",
    "# How can we make this loop work regardless of the\n",
    "# length of the list (without editing the loop code)?\n",
    "for i in range(length):\n",
    "    # CHANGE THE CODE BELOW to output the number and the thing to buy\n",
    "    print(f\"{i+1}. {things_to_buy[i]}\")"
   ]
  },
  {
   "cell_type": "markdown",
   "id": "70db126c",
   "metadata": {},
   "source": [
    "## 3. Basic to-do list"
   ]
  },
  {
   "cell_type": "markdown",
   "id": "99be04a0",
   "metadata": {},
   "source": [
    "### 3.1 Printing a numbered list\n",
    "\n",
    "In the code cell below, output all the elements of `to_do` in the form of a numbered list.\\\n",
    "The output should look something like this:\n",
    "```text\n",
    "Things to do:\n",
    "1. Wash dishes\n",
    "2. Feed cat\n",
    "3. Do homework\n",
    "```\n",
    "\n",
    "<details>\n",
    "    <summary><strong>Hint</strong></summary>\n",
    "    Do reference your code from things_to_buy exercise above\n",
    "</details>"
   ]
  },
  {
   "cell_type": "code",
   "execution_count": 2,
   "id": "b217f146",
   "metadata": {},
   "outputs": [
    {
     "name": "stdout",
     "output_type": "stream",
     "text": [
      "------------TODO LIST------------\n",
      "1. Wash dishes\n",
      "2. Feed cat\n",
      "3. Do homework\n",
      "---------------------------------\n"
     ]
    }
   ],
   "source": [
    "to_do = [\"Wash dishes\", \"Feed cat\", \"Do homework\"]\n",
    "\n",
    "# WRITE YOUR CODE BELOW\n",
    "print('------------TODO LIST------------')\n",
    "for i in range(len(to_do)):\n",
    "    print(f\"{i+1}. {to_do[i]}\")\n",
    "print('---------------------------------')"
   ]
  },
  {
   "cell_type": "markdown",
   "id": "7272658e",
   "metadata": {},
   "source": [
    "### 3.2 Editing one to-do item\n",
    "\n",
    "In the code cell below, write a program to:\n",
    "1. Ask the user for an input\n",
    "2. Modify the first item in the to-do list (i.e. first element of `to_do`) to the item provided by the user input\n",
    "3. Output all elements of 'to_do' in the form of a numbered list (refer to 3.1)"
   ]
  },
  {
   "cell_type": "code",
   "execution_count": null,
   "id": "206643fd",
   "metadata": {},
   "outputs": [],
   "source": [
    "to_do = [\"Wash dishes\", \"Feed cat\", \"Do homework\"]\n",
    "\n",
    "# WRITE YOUR CODE BELOW\n",
    "print('------------TODO LIST------------')\n",
    "for i in range(len(to_do)):\n",
    "    print(f\"{i+1}. {to_do[i]}\")\n",
    "print('---------------------------------')\n",
    "\n",
    "index_edit = int(input(\"What todo would you like to edit? (Input its number in the todo list): \"))\n",
    "edited_todo = input(\"What would be the edited todo? \")\n",
    "to_do[index_edit-1] = edited_todo\n",
    "\n",
    "print('------------TODO LIST------------')\n",
    "for i in range(len(to_do)):\n",
    "    print(f\"{i+1}. {to_do[i]}\")\n",
    "print('---------------------------------')"
   ]
  },
  {
   "cell_type": "markdown",
   "id": "2fa383ae",
   "metadata": {},
   "source": [
    "### 3.3 Editing any to-do item repeatedly\n",
    "\n",
    "Write your full to-do list program below. The to-do list will contain 3 items at any time.\n",
    "It should repeatedly let the user edit any to-do item of their choice until the user is satisfied.\n",
    "\n",
    "\n",
    "<details>\n",
    "    <summary><strong>Hint</strong></summary>\n",
    "    Use a while loop and set a condition like (enter 0 to quit) for the loop to stop\n",
    "</details>"
   ]
  },
  {
   "cell_type": "markdown",
   "id": "414c7192-5b3e-44e7-8563-349d32428d14",
   "metadata": {},
   "source": [
    "Write your to-do list program in the code cell below."
   ]
  },
  {
   "cell_type": "code",
   "execution_count": null,
   "id": "c2934fbe-fee1-4095-8632-6d9a1c4e0cab",
   "metadata": {},
   "outputs": [],
   "source": [
    "# Todo list\n",
    "todos = [\"Wash dishes\", \"Feed cat\", \"Do homework\"]\n",
    "\n",
    "# Print out the current todo list\n",
    "print('------------TODO LIST------------')\n",
    "for i in range(len(todos)):\n",
    "    print(f\"{i+1}. {todos[i]}\")\n",
    "print('---------------------------------')\n",
    "print(\"This is your current todo list. What would you like to do today? (Enter a number):\")\n",
    "print(\"(1) Exit\")\n",
    "print(\"(2) Edit a todo\")\n",
    "choice = int(input())\n",
    "\n",
    "while choice != 1:\n",
    "\n",
    "    index_edit = int(input(\"What todo would you like to edit? (Input its number in the todo list): \"))\n",
    "    edited_todo = input(\"What would be the edited todo? \")\n",
    "    todos[index_edit-1] = edited_todo\n",
    "\n",
    "    # print out the updated todo list and asking for input\n",
    "    print('------------UPDATED TODO LIST------------')\n",
    "    for i in range(len(todos)):\n",
    "        print(f\"{i+1}. {todos[i]}\")\n",
    "    print('---------------------------------')\n",
    "    print(\"\\n\")\n",
    "\n",
    "    print(\"This is your current todo list. What would you like to do today? (Enter a number):\")\n",
    "    print(\"(1) Exit\")\n",
    "    print(\"(2) Edit a todo\")\n",
    "    choice = int(input())"
   ]
  },
  {
   "cell_type": "markdown",
   "id": "b3670697",
   "metadata": {},
   "source": [
    "## 4. Appending and popping \n"
   ]
  },
  {
   "cell_type": "markdown",
   "id": "f71c99af",
   "metadata": {},
   "source": [
    "### 4.1 Appending\n",
    "To add to the end of the list we can use `.append()`\n",
    "<br>The code in the cell below allows the user to enter their top 5 favourite foods into a list called `favourite_foods`\n"
   ]
  },
  {
   "cell_type": "code",
   "execution_count": null,
   "id": "efc3d224",
   "metadata": {},
   "outputs": [],
   "source": [
    "favourite_foods = []\n",
    "for i in range(5): \n",
    "    food = input(\"Enter a food that you like: \") \n",
    "    favourite_foods.append(food) #This line adds the user's favourite food to the end of the list called favourite_foods\n",
    "    \n",
    "print(f\"My favourite foods are {favourite_foods}\")"
   ]
  },
  {
   "cell_type": "markdown",
   "id": "3e7f00ed",
   "metadata": {},
   "source": [
    "Add a line of code to the code cell below to append `\"Samuel\"` to the list."
   ]
  },
  {
   "cell_type": "code",
   "execution_count": null,
   "id": "8f8d1a6e",
   "metadata": {},
   "outputs": [],
   "source": [
    "students = [\"Ana\", \"Bryan\", \"Jayden\"]\n",
    "print(f\"Students is initially {students}\")\n",
    "\n",
    "# WRITE YOUR CODE BELOW to append \"Samuel\" to the students lists\n",
    "students.append(\"Samuel\")\n",
    "\n",
    "\n",
    "print(f\"Students is now {students}\")"
   ]
  },
  {
   "cell_type": "markdown",
   "id": "d2c6b872",
   "metadata": {},
   "source": [
    "### 4.2 Popping\n",
    "To remove something from anywhere in the list we can use `.pop()`\n",
    "<br>`.pop()` removes the element at the specified position\n",
    "<br>\n",
    "<br>\"Elephant\" is not a dessert. The code in the cell below removes it from the list called `desserts`\n",
    "<br>`.pop(index_of_elephant)` removes the item at index 3, which is elephant"
   ]
  },
  {
   "cell_type": "code",
   "execution_count": null,
   "id": "281c3f73",
   "metadata": {},
   "outputs": [],
   "source": [
    "desserts = [\"Souffle\", \"Tiramisu\", \"Strawberry Cake\", \"Elephant\", \"Mango Pudding\", \"Ice Cream\"]\n",
    "\n",
    "print(f\"Initially, desserts is {desserts}\")\n",
    "\n",
    "index_of_elephant = 3\n",
    "desserts.pop(index_of_elephant)\n",
    "\n",
    "print(\"Everything in the list is now a dessert\")\n",
    "print(f\"desserts: {desserts}\")"
   ]
  },
  {
   "cell_type": "markdown",
   "id": "dea48a38",
   "metadata": {},
   "source": [
    "If no index is given to `.pop()`, it removes the last element of that list\n",
    "<br>The code in the cell below shows another example of `.pop()`"
   ]
  },
  {
   "cell_type": "code",
   "execution_count": null,
   "id": "d613ff32",
   "metadata": {},
   "outputs": [],
   "source": [
    "colours = [\"red\", \"orange\", \"purple\", \"blue\", \"pink\", \"flamingo\"]\n",
    "\n",
    "print(f\"Initially, colours is {colours}\")\n",
    "colours.pop()\n",
    "\n",
    "print(f\"colours is now {colours}\")"
   ]
  },
  {
   "cell_type": "markdown",
   "id": "79add3ce-8bbd-4cd2-8b99-19dcbaea2450",
   "metadata": {},
   "source": [
    "The code below defines a `squares` list, but there's a problem... Add a line of code (do not modify the first line) to pop `23` from the list."
   ]
  },
  {
   "cell_type": "code",
   "execution_count": null,
   "id": "d7f7a370-f5d2-4cad-88e9-829efc94d9f1",
   "metadata": {},
   "outputs": [],
   "source": [
    "squares = [1, 4, 9, 16, 23]  # 23 isn't a square...\n",
    "print(f\"Here's my list of squares: {squares}\")\n",
    "print(\"Hmm... something's not right with the list\")\n",
    "\n",
    "# WRITE YOUR CODE BELOW to pop 23 from the list\n",
    "squares.pop()\n",
    "\n",
    "\n",
    "print(f\"These are the correct square numbers: {squares}\")"
   ]
  },
  {
   "cell_type": "markdown",
   "id": "74a3eda9",
   "metadata": {},
   "source": [
    "## 5. Improved to-do list \n",
    "\n",
    "In addition to editing to-dos, we also want to allow the user to add and remove to-dos. Copy-paste your code from **3. Basic to-do list** into the code cell below, and use popping and appending to implement this new functionality."
   ]
  },
  {
   "cell_type": "code",
   "execution_count": null,
   "id": "676963e4",
   "metadata": {},
   "outputs": [],
   "source": [
    "# COPY-PASTE your basic to-do list program this cell\n",
    "\n",
    "# Todo list\n",
    "todos = [\"Wash dishes\", \"Feed cat\", \"Do homework\"]\n",
    "\n",
    "# Print out the current todo list\n",
    "print('------------TODO LIST------------')\n",
    "for i in range(len(todos)):\n",
    "    print(f\"{i+1}. {todos[i]}\")\n",
    "print('---------------------------------')\n",
    "print(\"This is your current todo list. What would you like to do today? (Enter a number):\")\n",
    "print(\"(1) Exit\")\n",
    "print(\"(2) Edit a todo\")\n",
    "print(\"(3) Mark a todo as done (Which removes it from the todo list)\")\n",
    "print(\"(4) Add a todo\")\n",
    "choice = int(input())\n",
    "\n",
    "while choice != 1:\n",
    "    if choice == 2: # Edit a todo\n",
    "        index_edit = int(input(\"What todo would you like to edit? (Input its number in the todo list): \"))\n",
    "        edited_todo = input(\"What would be the edited todo? \")\n",
    "        todos[index_edit-1] = edited_todo\n",
    "        \n",
    "    elif choice == 3: # Marking a todo as done\n",
    "        index_remove = int(input(\"Which todo would you like to mark as done? (Input its number): \"))\n",
    "        todos.pop(index_remove-1)\n",
    "\n",
    "    elif choice == 4: # Adding a todo\n",
    "        todo_add = input(\"What todo would you like to add? \")\n",
    "        todos.append(todo_add)\n",
    "\n",
    "    print('------------UPDATED TODO LIST------------')\n",
    "    if todos == []:\n",
    "        print(\"The todo list is currently empty.\")\n",
    "    else:\n",
    "        for i in range(len(todos)):\n",
    "            print(f\"{i+1}. {todos[i]}\")\n",
    "    print('---------------------------------')\n",
    "    print(\"\\n\")\n",
    "\n",
    "    print(\"This is your current todo list. What would you like to do today? (Enter a number):\")\n",
    "    print(\"(1) Exit\")\n",
    "    print(\"(2) Edit a todo\")\n",
    "    print(\"(3) Mark a todo as done (Which removes it from the todo list)\")\n",
    "    print(\"(4) Add a todo\")\n",
    "    choice = int(input())\n"
   ]
  },
  {
   "cell_type": "markdown",
   "id": "e93d2410",
   "metadata": {},
   "source": [
    "### 5.1. Improved to-do list with number validation *(Supplementary)*\n",
    "**Currently, the user will enter a number at the following places:**\n",
    "1. When choosing what they want to do today (adding a todo, editing a todo, etc)\n",
    "2. When choosing which todo to edit (when user chooses to edit a todo)\n",
    "3. When choosing which todo to mark as done (when user chooses to mark a todo as done)\n",
    "\n",
    "Now, whenever the user enters a number, let's **prompt the user for another input when they input an invalid number**. We should continue to prompt the user until the user enters a valid number!\n",
    "\n",
    "<details>\n",
    "    <summary><strong>Hint:</strong> </summary>\n",
    "    <ul>\n",
    "        <li>For point 1, an invalid input can be handled using an else statement</li>\n",
    "        <li>For points 2 and 3, put a while loop in the if statements that handle those options (paper might help!)</li>\n",
    "    </ul>\n",
    "</details>"
   ]
  },
  {
   "cell_type": "code",
   "execution_count": null,
   "id": "528ad340-16f8-421c-aa4d-a26f74dcc363",
   "metadata": {},
   "outputs": [],
   "source": [
    "# Todo list\n",
    "todos = [\"Wash dishes\", \"Feed cat\", \"Do homework\"]\n",
    "\n",
    "# Print out the current todo list\n",
    "print('------------TODO LIST------------')\n",
    "for i in range(len(todos)):\n",
    "    print(f\"{i+1}. {todos[i]}\")\n",
    "print('---------------------------------')\n",
    "print(\"This is your current todo list. What would you like to do today? (Enter a number):\")\n",
    "print(\"(1) Exit\")\n",
    "print(\"(2) Edit a todo\")\n",
    "print(\"(3) Mark a todo as done (Which removes it from the todo list)\")\n",
    "print(\"(4) Add a todo\")\n",
    "choice = int(input())\n",
    "while choice < 1 or choice > 4:\n",
    "    print(\"Invalid choice.\")\n",
    "    choice = int(input(\"Please re-enter your choice: \"))\n",
    "\n",
    "while choice != 1:\n",
    "    if choice == 2: # Edit a todo\n",
    "        index_edit = int(input(\"What todo would you like to edit? (Input its number in the todo list): \"))\n",
    "        edited_todo = input(\"What would be the edited todo? \")\n",
    "        todos[index_edit-1] = edited_todo\n",
    "        \n",
    "    elif choice == 3: # Marking a todo as done\n",
    "        index_remove = int(input(\"Which todo would you like to mark as done? (Input its number): \"))\n",
    "        todos.pop(index_remove-1)\n",
    "\n",
    "    elif choice == 4: # Adding a todo\n",
    "        todo_add = input(\"What todo would you like to add? \")\n",
    "        todos.append(todo_add)\n",
    "\n",
    "    print('------------UPDATED TODO LIST------------')\n",
    "    if todos == []:\n",
    "        print(\"The todo list is currently empty.\")\n",
    "    else:\n",
    "        for i in range(len(todos)):\n",
    "            print(f\"{i+1}. {todos[i]}\")\n",
    "    print('---------------------------------')\n",
    "    print(\"\\n\")\n",
    "\n",
    "    print(\"This is your current todo list. What would you like to do today? (Enter a number):\")\n",
    "    print(\"(1) Exit\")\n",
    "    print(\"(2) Edit a todo\")\n",
    "    print(\"(3) Mark a todo as done (Which removes it from the todo list)\")\n",
    "    print(\"(4) Add a todo\")\n",
    "    choice = int(input())\n",
    "    while choice < 1 or choice > 4:\n",
    "        print(\"Invalid choice.\")\n",
    "        choice = int(input(\"Please re-enter your choice: \"))\n"
   ]
  },
  {
   "cell_type": "markdown",
   "id": "a7ebcdf2-ec7c-4810-ae4f-94162400aa2d",
   "metadata": {},
   "source": [
    "\\\n",
    "\\\n",
    "Download the next lesson notebook (*Wordle*) **[here](https://github.com/artofcode-sg/lesson-materials/blob/main/notebooks/%5B6%5D%20Wordle.ipynb)**!"
   ]
  }
 ],
 "metadata": {
  "kernelspec": {
   "display_name": "Python 3 (ipykernel)",
   "language": "python",
   "name": "python3"
  },
  "language_info": {
   "codemirror_mode": {
    "name": "ipython",
    "version": 3
   },
   "file_extension": ".py",
   "mimetype": "text/x-python",
   "name": "python",
   "nbconvert_exporter": "python",
   "pygments_lexer": "ipython3",
   "version": "3.12.3"
  }
 },
 "nbformat": 4,
 "nbformat_minor": 5
}
