{
 "cells": [
  {
   "cell_type": "markdown",
   "id": "90d8477f-aa75-495a-86e4-5a5141ce1259",
   "metadata": {},
   "source": [
    "![Art of Code banner](https://github.com/artofcode-sg/lesson-materials/blob/main/notebook-assets/aoc-banner.png?raw=true)\n",
    "\n",
    "# IO and data\n",
    "\n",
    "**Table of contents**\n",
    "1. Hello world\n",
    "2. Mad libs\n",
    "3. Arithmetic operators\n",
    "4. Simple calculator\n",
    "5. BMI calculator\n",
    "6. Temperature converter (*Supplementary*)"
   ]
  },
  {
   "cell_type": "markdown",
   "id": "f96f9d7b-9e7f-45d5-9d8f-b96fdc088063",
   "metadata": {},
   "source": [
    "## 1. Hello world\n",
    "\n",
    "Change the text in quotes below and press the ▶️ button above (or hit `ctrl`+`enter` / `⌘`+`enter`) to run the code."
   ]
  },
  {
   "cell_type": "code",
   "execution_count": null,
   "id": "b9252b41-101a-4f8c-a1d1-50a1c7dd227b",
   "metadata": {},
   "outputs": [],
   "source": [
    "print(\"Hello, World!\")"
   ]
  },
  {
   "cell_type": "markdown",
   "id": "ce6c72b4-758d-4095-a350-d8de6ef60688",
   "metadata": {},
   "source": [
    "Here's a program that greets the user."
   ]
  },
  {
   "cell_type": "code",
   "execution_count": null,
   "id": "1005617d-bc03-48a8-a427-b3a509a00dd1",
   "metadata": {},
   "outputs": [],
   "source": [
    "name = \"Kenneth\"  # CHANGE THE TEXT to your own name\n",
    "print(f\"What's up, {name}!\")  # CHANGE THE TEXT to another greeting"
   ]
  },
  {
   "cell_type": "markdown",
   "id": "17e23863-12dd-4682-a344-3d2d4d675e69",
   "metadata": {},
   "source": [
    "## 2. Mad libs\n",
    "\n",
    "| Term      | Explanation                          | Examples                                   |\n",
    "|-----------|--------------------------------------|--------------------------------------------|\n",
    "| Noun      | Person, place, thing, or idea        | Cat, Book, Friendship                      |\n",
    "| Verb      | Action or state of being             | Dance, Sing, Explore                       |\n",
    "| Adjective | Describes a quality or attribute     | Happy, Brave, Beautiful                    |\n",
    "| Adverb    | Describes how an action is performed | Gracefully, Swiftly, Carefully             |\n",
    "\n",
    "Write your mad libs program below."
   ]
  },
  {
   "cell_type": "code",
   "execution_count": null,
   "id": "099ca2b8-a806-4e1a-960e-eb6c5ac0e428",
   "metadata": {},
   "outputs": [],
   "source": [
    "# WRITE CODE BELOW to ask the user to enter a noun, verb, an adjective, and adverb, and a place below!\n",
    "print(\"Welcome to Mad Libs!\")\n",
    "noun = input(\"Enter a noun: \")\n",
    "verb = input(\"Enter a verb: \")\n",
    "adjective = input(\"Enter an adjective: \")\n",
    "adverb = input(\"Enter an adverb: \")\n",
    "place = input(\"Enter a place: \")\n",
    "\n",
    "# CHANGE THE STRING into an f-string that uses all the above inputs that you've defined!\n",
    "story = f\"Once upon a time, in a {place} far, far away, there was a {adjective} {noun} who loved to {verb} {adverb}.\"\n",
    "\n",
    "print(\"\\nYour Mad Libs Story:\")\n",
    "print(story)"
   ]
  },
  {
   "cell_type": "markdown",
   "id": "996a35e2-9818-4f54-a509-00e5010f7409",
   "metadata": {},
   "source": [
    "## 3. Arithmetic operators\n",
    "\n",
    "| Math         | Python  |\n",
    "| ------------ | ------- |\n",
    "| $a + b$      | `a + b` |\n",
    "| $a - b$      | `a - b` |\n",
    "| $a \\times b$ | `a * b` |\n",
    "| $a \\div b$   | `a / b` |\n",
    "\n",
    "\\\n",
    "Run the code below to see how Python can run mathematical calculations for you."
   ]
  },
  {
   "cell_type": "code",
   "execution_count": null,
   "id": "d3971301-0754-4e7b-8571-cf1daca80c64",
   "metadata": {},
   "outputs": [],
   "source": [
    "# Try changing the values of the variables!\n",
    "a = 1\n",
    "b = 3\n",
    "\n",
    "print(1 + b)\n",
    "print(a - b)\n",
    "print(a * 4)\n",
    "print(1 / 4)\n",
    "print((a + b) * 6 / 5)"
   ]
  },
  {
   "cell_type": "markdown",
   "id": "3b27e255",
   "metadata": {},
   "source": [
    "## 4. Simple calculator\n",
    "\n",
    "\n",
    "Write your calculator program below. It needs to:\n",
    "\n",
    "1. Ask the user for two numbers.\n",
    "2. Add the numbers together.\n",
    "3. Output the result of the addition."
   ]
  },
  {
   "cell_type": "code",
   "execution_count": null,
   "id": "07c8146c-d945-4ce7-9e2b-9297b3f201b9",
   "metadata": {},
   "outputs": [],
   "source": [
    "# Ask the user for their two numbers below\n",
    "num1 = int(input(\"Enter the first number: \"))  # Typecast to integer\n",
    "num2 = int(input(\"Enter the second number: \"))  # Typecast to integer\n",
    "\n",
    "# Add the numbers together, and put the result in a variable\n",
    "total = num1 + num2\n",
    "\n",
    "# Print the variable (the sum of the two numbers)\n",
    "print(total)"
   ]
  },
  {
   "cell_type": "markdown",
   "id": "052a49a1-6aa5-4cde-967c-3eeba072478a",
   "metadata": {},
   "source": [
    "## 5. BMI calculator\n",
    "\n",
    "$$\n",
    "\\text{BMI}=\\frac{\\text{weight in kg}}{(\\text{height in m})^2}\n",
    "$$\n",
    "\n",
    "Here's a program that calculates the BMI of the user, but there's a bug in the code... Can you fix the error?"
   ]
  },
  {
   "cell_type": "code",
   "execution_count": null,
   "id": "6e332b9c-ef9e-47a2-8221-44c15e0c791d",
   "metadata": {},
   "outputs": [],
   "source": [
    "weight = float(input(\"Enter your weight (kg): \"))  # Typecast to float (decimals)\n",
    "height = float(input(\"Enter your height (m): \"))  # Typecast to float (decimals)\n",
    "\n",
    "bmi = weight / (height * height)\n",
    "\n",
    "print(f\"Your BMI is {bmi}\")"
   ]
  },
  {
   "cell_type": "markdown",
   "id": "6cf3d823-f16a-4ebb-a97b-a8601283dce1",
   "metadata": {},
   "source": [
    "## 6. Temperature converter (*Supplementary*)\n",
    "\n",
    "You are developing a weather application for a global audience. One essential feature of this application is the ability to convert temperatures between Fahrenheit (°F) and Celsius (°C). Your task is to create a Python program that converts temperatures from Fahrenheit to Celsius.\n",
    "\n",
    "Conversion between Fahrenheit and Celsius:\n",
    "- 32 °F is 0 °C.\n",
    "- 41 °F is 5 °C.\n",
    "- 50 °F is 10 °C.\n",
    "\n",
    "Notice a pattern between Fahrenheit and Celsius? \n",
    "\n",
    "Write a program to ask the user for an input of temperature in Fahrenheit, convert the temperature to celsius and display the temperature in celsius. \n"
   ]
  },
  {
   "cell_type": "markdown",
   "id": "a8ea3dc4-4225-4728-bf72-e1eaf6a8d876",
   "metadata": {},
   "source": [
    "<details>\n",
    "    <summary><strong>Hint</strong></summary>\n",
    "    For every 9 degrees increase in Farenheit, there is a 5 degree increase Celsius. \n",
    "</details>"
   ]
  },
  {
   "cell_type": "code",
   "execution_count": null,
   "id": "43268ad4-9f5a-419a-a5b5-1a8dbd5b1d7f",
   "metadata": {},
   "outputs": [],
   "source": [
    "temp_F = float(input(\"Enter the temperature in Fahrenheit: \"))\n",
    "temp_C = (temp_F - 32) * 5 / 9\n",
    "print(f\"{temp_C}°C\")"
   ]
  },
  {
   "cell_type": "markdown",
   "id": "057a9981-c4cb-4297-891e-344b4ec4b786",
   "metadata": {},
   "source": [
    "\\\n",
    "\\\n",
    "Download the next lesson notebook (*Conditionals*) **[here](https://github.com/artofcode-sg/lesson-materials/blob/main/notebooks/%5B2%5D%20Conditionals.ipynb)**!"
   ]
  }
 ],
 "metadata": {
  "kernelspec": {
   "display_name": "Python 3 (ipykernel)",
   "language": "python",
   "name": "python3"
  },
  "language_info": {
   "codemirror_mode": {
    "name": "ipython",
    "version": 3
   },
   "file_extension": ".py",
   "mimetype": "text/x-python",
   "name": "python",
   "nbconvert_exporter": "python",
   "pygments_lexer": "ipython3",
   "version": "3.12.3"
  }
 },
 "nbformat": 4,
 "nbformat_minor": 5
}
