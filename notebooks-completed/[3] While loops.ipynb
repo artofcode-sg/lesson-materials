{
 "cells": [
  {
   "cell_type": "markdown",
   "id": "533ea9a4-ed47-40ed-8213-b5c4d401d2b4",
   "metadata": {},
   "source": [
    "![Art of Code banner](https://github.com/artofcode-sg/lesson-materials/blob/main/notebook-assets/aoc-banner.png?raw=true)\n",
    "\n",
    "# While loops\n",
    "\n",
    "**Table of contents**\n",
    "1. Intro to while loops\n",
    "2. Login system\n",
    "3. Guess-the-number game\n",
    "4. Fibonacci (*Supplementary*)"
   ]
  },
  {
   "cell_type": "markdown",
   "id": "feb46d2e-b494-466d-a0fc-968cef7a0221",
   "metadata": {},
   "source": [
    "## 1. Intro to while loops\n",
    "\n",
    "A `while` loop repeatedly runs a block of code until a specified condition is false. Run the code below to see how `while` loops behave."
   ]
  },
  {
   "cell_type": "code",
   "execution_count": null,
   "id": "d3c859f2-aba1-4320-b42f-c878e6b21915",
   "metadata": {},
   "outputs": [],
   "source": [
    "number = 1\n",
    "\n",
    "while number < 5:\n",
    "    print(f\"The number is now {number}\")  # These two lines will be executed\n",
    "    number = number + 1                   # repeatedly since they're in the loop\n",
    "    \n",
    "print(\"The loop has finished running!\")"
   ]
  },
  {
   "cell_type": "markdown",
   "id": "29953845-0ab8-4201-84f2-6e3f62c188ee",
   "metadata": {},
   "source": [
    "## 2. Login system\n",
    "\n",
    "Complete this simple login system. It should ask the user to enter the password, and ask again if the password that the user entered was wrong. But stop asking for passwords after 5 failed attempts, or else any malicious user could guess the password by trying every possible combination..."
   ]
  },
  {
   "cell_type": "code",
   "execution_count": null,
   "id": "b9252b41-101a-4f8c-a1d1-50a1c7dd227b",
   "metadata": {},
   "outputs": [],
   "source": [
    "# Here's the correct password - check that the\n",
    "# user's password attempt is the same as this!\n",
    "correct_password = \"supersecurepassword123\"\n",
    "\n",
    "entered_password = input(\"Enter your password: \")\n",
    "num_attempts = 1\n",
    "\n",
    "while entered_password != correct_password and num_attempts < 5:\n",
    "    print(\"Incorrect password\") \n",
    "    entered_password = input(\"Enter your password again: \")\n",
    "    num_attempts = num_attempts + 1\n",
    "\n",
    "if entered_password == correct_password:\n",
    "    print(\"You've been logged in successfully\")\n",
    "else:\n",
    "    print(\"Too many attempts, try again later\")"
   ]
  },
  {
   "cell_type": "markdown",
   "id": "94ba3d63-3358-4fcf-b3d0-69f98e4a4226",
   "metadata": {},
   "source": [
    "## 3. Guess-the-number game\n",
    "\n",
    "This program will choose a random number, then let the user guess it. The program will tell the user if the guess is too high, too low, or correct. If the answer isn't correct, the program will keep letting the user guess, until the user guesses correctly!"
   ]
  },
  {
   "cell_type": "code",
   "execution_count": null,
   "id": "398cdae8-1f11-4d55-afa7-24c24fb4e361",
   "metadata": {},
   "outputs": [],
   "source": [
    "import random\n",
    "\n",
    "# This sets the \"answer\" variable to a random number between 1 and 100\n",
    "answer = random.randint(1, 100)\n",
    "\n",
    "guess = int(input(\"Enter your guess: \"))\n",
    "\n",
    "while answer != guess:\n",
    "    if guess > answer:\n",
    "        print(\"That's too high\")\n",
    "    else:\n",
    "        print(\"That's too low\")\n",
    "\n",
    "    guess = int(input(\"Enter another guess: \"))\n",
    "\n",
    "print(\"That's correct!\")"
   ]
  },
  {
   "cell_type": "markdown",
   "id": "29b26673-6dea-45fd-9f28-4e9b2d4ae930",
   "metadata": {},
   "source": [
    "## 4. Fibonacci (*Supplementary*)\n",
    "\n",
    "The [Fibonacci sequence](https://www.mathsisfun.com/numbers/fibonacci-sequence.html) is a sequence of numbers where the next number is equal to the sum of the previous two numbers. For example, if the first two numbers of the sequence were `1` and `1`:\n",
    "\n",
    "1. The next number would be `2` (because `1 + 1` is `2`).\n",
    "2. The number after that would be `3` (because `1 + 2` is `3`).\n",
    "3. The following number would be `5` (because `2 + 3` is `5`).\n",
    "4. ...and so on.\n",
    "\n",
    "If you calculate the sequence, it would look something like this: `1`, `1`, `2`, `3`, `5`, `8`, `13`, `21`, `34`, ...\n",
    "\n",
    "Write a program to print all the Fibonacci numbers less than `10000`.\n",
    "\n",
    "<details>\n",
    "    <summary><strong>Hint</strong></summary>\n",
    "    A common and straightforward approach to generating Fibonacci numbers is to use two variables (let's say <code>a</code> and <code>b</code>) to keep track of the \"current\" two numbers (which would start off as <code>1</code> and <code>1</code>). As the program runs, it should repeatedly:\n",
    "    <ol>\n",
    "        <li>Print the value of <code>a</code>.</li>\n",
    "        <li>Re-assign <code>a</code> to the value of <code>b</code> (i.e. <code>a = b</code>).</li>\n",
    "        <li>Re-assign the value of <code>b</code> to the next number in the sequence.</li>\n",
    "    </ol>\n",
    "    After this process, <code>a</code> and <code>b</code> would be <code>1</code> and <code>2</code> respectively. This process is then repeated until <code>6765</code> (the largest Fibonacci below 10000) is printed. The tricky part, however, is figuring out how to update these variables in a way that doesn't overwrite each other. Happy coding!\n",
    "</details>"
   ]
  },
  {
   "cell_type": "code",
   "execution_count": null,
   "id": "97b780e0-3fb4-40c0-b48b-ccc61b9c155c",
   "metadata": {},
   "outputs": [],
   "source": [
    "a = 1\n",
    "b = 1\n",
    "\n",
    "while a < 10000:\n",
    "    print(a)\n",
    "    c = a + b\n",
    "    a = b\n",
    "    b = c"
   ]
  },
  {
   "cell_type": "markdown",
   "id": "6f034ada-6170-44cc-9117-473ea12a25cb",
   "metadata": {},
   "source": [
    "\\\n",
    "\\\n",
    "Download the next lesson notebook (*for loops*) **[here](https://github.com/artofcode-sg/lesson-materials/blob/main/notebooks/%5B4%5D%20For%20loops.ipynb)**!"
   ]
  }
 ],
 "metadata": {
  "kernelspec": {
   "display_name": "Python 3 (ipykernel)",
   "language": "python",
   "name": "python3"
  },
  "language_info": {
   "codemirror_mode": {
    "name": "ipython",
    "version": 3
   },
   "file_extension": ".py",
   "mimetype": "text/x-python",
   "name": "python",
   "nbconvert_exporter": "python",
   "pygments_lexer": "ipython3",
   "version": "3.12.3"
  }
 },
 "nbformat": 4,
 "nbformat_minor": 5
}
