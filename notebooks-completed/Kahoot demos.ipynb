{
 "cells": [
  {
   "cell_type": "markdown",
   "id": "90e91e84-01bb-4045-b90c-97e229fb012e",
   "metadata": {},
   "source": [
    "![Art of Code banner](https://github.com/artofcode-sg/lesson-materials/blob/main/notebook-assets/aoc-banner.png?raw=true)\n",
    "\n",
    "# Kahoot demos\n",
    "\n",
    "This notebook contains the code snippets used in our [Kahoots](https://create.kahoot.it/my-library/kahoots/all)."
   ]
  },
  {
   "cell_type": "markdown",
   "id": "54ce9dfe-563e-469e-ab8f-6b56611325d4",
   "metadata": {},
   "source": [
    "## While loops"
   ]
  },
  {
   "cell_type": "markdown",
   "id": "c984b486-07ce-429c-ae6a-81bf6b85fd85",
   "metadata": {},
   "source": [
    "### Q2"
   ]
  },
  {
   "cell_type": "code",
   "execution_count": null,
   "id": "2f356505-3799-4443-9bd5-c038a18acef3",
   "metadata": {},
   "outputs": [],
   "source": [
    "i = 0\n",
    "\n",
    "while i < 3:\n",
    "    print(i)\n",
    "    i = i + 1"
   ]
  },
  {
   "cell_type": "markdown",
   "id": "6bbf6d07-32b9-40b2-a05a-105e8948b6a7",
   "metadata": {},
   "source": [
    "### Q3"
   ]
  },
  {
   "cell_type": "code",
   "execution_count": null,
   "id": "531739cd-141c-4e74-a36d-ea4e42088fd6",
   "metadata": {},
   "outputs": [],
   "source": [
    "n = 3\n",
    "\n",
    "while n > 0:\n",
    "    n = n - 1\n",
    "    print(n)"
   ]
  },
  {
   "cell_type": "markdown",
   "id": "1c0755ff-085e-4218-bb99-31fd605a5d6b",
   "metadata": {},
   "source": [
    "### Q4"
   ]
  },
  {
   "cell_type": "code",
   "execution_count": null,
   "id": "20a4c9cb-8d19-4e83-b116-bb48659056c5",
   "metadata": {},
   "outputs": [],
   "source": [
    "age = 13\n",
    "\n",
    "while age < 17:\n",
    "    print(f\"I'm {age} years old this year\")\n",
    "    age = age - 1"
   ]
  },
  {
   "cell_type": "markdown",
   "id": "5ddacf96-7c49-4243-b477-418a8ea8e714",
   "metadata": {},
   "source": [
    "### Q5"
   ]
  },
  {
   "cell_type": "code",
   "execution_count": null,
   "id": "3afe5bbc-1eb0-42ac-b708-cbdd951b1110",
   "metadata": {},
   "outputs": [],
   "source": [
    "# This program is supposed\n",
    "# to count down from 10 to 0\n",
    "number = 10\n",
    "\n",
    "while number >= 0\n",
    "    print(number)\n",
    "    number = number - 1"
   ]
  },
  {
   "cell_type": "markdown",
   "id": "b7b4cb90-393b-47f5-a3b1-fbf0cc20b9c1",
   "metadata": {},
   "source": [
    "### Q6"
   ]
  },
  {
   "cell_type": "code",
   "execution_count": null,
   "id": "74701adf-ece3-40ff-9ee0-d0cc55a5e767",
   "metadata": {},
   "outputs": [],
   "source": [
    "temperature = float(input(\"Enter the temperature outside in °C: \"))\n",
    "\n",
    "while temperature < -90 or temperature > 60:\n",
    "    print(\"That temperature seems inaccurate\")\n",
    "    temperature = float(input(\"Enter the correct temperature outside in °C: \"))\n",
    "\n",
    "print(f\"Temperature received: {temperature}°C\")"
   ]
  },
  {
   "cell_type": "markdown",
   "id": "e93eb8e4-c75a-4c6c-ae6b-fd2d29dea79f",
   "metadata": {},
   "source": [
    "### Q7"
   ]
  },
  {
   "cell_type": "code",
   "execution_count": null,
   "id": "36b74052-cc9e-46b6-a7d2-b2a37f3941fd",
   "metadata": {},
   "outputs": [],
   "source": [
    "num = 1\n",
    "\n",
    "while num < 10:\n",
    "    print(num)\n",
    "\n",
    "    if num == 3:\n",
    "        num = 10\n",
    "    else:\n",
    "        num = num + 1"
   ]
  }
 ],
 "metadata": {
  "kernelspec": {
   "display_name": "Python 3 (ipykernel)",
   "language": "python",
   "name": "python3"
  },
  "language_info": {
   "codemirror_mode": {
    "name": "ipython",
    "version": 3
   },
   "file_extension": ".py",
   "mimetype": "text/x-python",
   "name": "python",
   "nbconvert_exporter": "python",
   "pygments_lexer": "ipython3",
   "version": "3.12.3"
  }
 },
 "nbformat": 4,
 "nbformat_minor": 5
}
