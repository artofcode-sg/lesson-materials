{
 "cells": [
  {
   "cell_type": "markdown",
   "id": "90e91e84-01bb-4045-b90c-97e229fb012e",
   "metadata": {},
   "source": [
    "![Art of Code banner](https://github.com/artofcode-sg/lesson-materials/blob/main/notebook-assets/aoc-banner.png?raw=true)\n",
    "\n",
    "# Kahoot demos\n",
    "\n",
    "1. Conditionals\n",
    "2. While loops\n",
    "3. For loops\n",
    "\n",
    "This notebook contains the code snippets used in our [Kahoots](https://create.kahoot.it/my-library/kahoots/all)."
   ]
  },
  {
   "cell_type": "markdown",
   "id": "5ab2bad7-8012-463a-a9bf-d137a1d678ac",
   "metadata": {},
   "source": [
    "## 1. Conditionals"
   ]
  },
  {
   "cell_type": "markdown",
   "id": "e99de559-9c06-437c-b7af-c3e36366a3c6",
   "metadata": {},
   "source": [
    "### Q1"
   ]
  },
  {
   "cell_type": "code",
   "execution_count": null,
   "id": "5bfd61fc-6759-4e4c-84dd-1f6ac380b0fd",
   "metadata": {},
   "outputs": [],
   "source": [
    "num = int(input(\"Enter a number: \"))\n",
    "if num < 0:\n",
    "    print(\"Less than 0\")\n",
    "elif num > 100:\n",
    "    print(\"That's a big number!\")"
   ]
  },
  {
   "cell_type": "markdown",
   "id": "47159917-ac50-440e-94a0-ac9c90f8fcb3",
   "metadata": {},
   "source": [
    "### Q2"
   ]
  },
  {
   "cell_type": "code",
   "execution_count": null,
   "id": "8c43f99e-512b-476c-b497-b2b5dc7b55cb",
   "metadata": {},
   "outputs": [],
   "source": [
    "day = \"Sunday\"\n",
    "if day == \"Monday\":\n",
    "    print(\"Go to school\")\n",
    "else:\n",
    "    print(\"Sleep\")"
   ]
  },
  {
   "cell_type": "markdown",
   "id": "bb845872-214f-48a2-88c3-3fd9926012a9",
   "metadata": {},
   "source": [
    "### Q3"
   ]
  },
  {
   "cell_type": "code",
   "execution_count": null,
   "id": "0278d615-c278-4d77-b76e-78151d11ee56",
   "metadata": {},
   "outputs": [],
   "source": [
    "grade = 49\n",
    "if grade >= 50:\n",
    "print(\"You Passed!\")"
   ]
  },
  {
   "cell_type": "markdown",
   "id": "f56a7e8b-53e2-452a-b968-1a5dab6170c7",
   "metadata": {},
   "source": [
    "### Q4"
   ]
  },
  {
   "cell_type": "code",
   "execution_count": null,
   "id": "cf12cf0b-4645-42c0-a8b0-caba0a2e9001",
   "metadata": {},
   "outputs": [],
   "source": [
    "x = 10\n",
    "y = 20\n",
    "z = 30\n",
    "if x > y and x > z:\n",
    "    print(\"X\")\n",
    "elif y > x and y > z:\n",
    "    print(\"Y\")\n",
    "elif z > x and z > y:\n",
    "    print(\"Z\")\n",
    "else:\n",
    "    print(\"Equal\")"
   ]
  },
  {
   "cell_type": "markdown",
   "id": "10f4ec03-e93b-469d-b64f-608d48ad6a19",
   "metadata": {},
   "source": [
    "### Q5"
   ]
  },
  {
   "cell_type": "code",
   "execution_count": null,
   "id": "0069f534-6507-4971-95e9-b92def55115b",
   "metadata": {},
   "outputs": [],
   "source": [
    "x = 10\n",
    "y = 20\n",
    "z = 30\n",
    "if x < y or x < z:\n",
    "    print(\"X\")\n",
    "elif y < x or y < z:\n",
    "    print(\"Y\")\n",
    "elif z < x or z < y:\n",
    "    print(\"Z\")\n",
    "else:\n",
    "    print(\"Equal\")"
   ]
  },
  {
   "cell_type": "markdown",
   "id": "1e4898af-30f6-4a6e-a967-caed2c7f93ca",
   "metadata": {},
   "source": [
    "### Q6"
   ]
  },
  {
   "cell_type": "code",
   "execution_count": null,
   "id": "81983cd7-7725-4c8f-bebf-61ffe796dda4",
   "metadata": {},
   "outputs": [],
   "source": [
    "x = 10\n",
    "y = \"10\"\n",
    "if x == y:\n",
    "    print(\"Equal\")\n",
    "else:\n",
    "    print(\"Not Equal\")"
   ]
  },
  {
   "cell_type": "markdown",
   "id": "af40b856-94ce-4b01-9c3b-398e7ca5f76e",
   "metadata": {},
   "source": [
    "### Q7"
   ]
  },
  {
   "cell_type": "code",
   "execution_count": null,
   "id": "a0949758-44bb-47f8-81e3-eeb6620bed02",
   "metadata": {},
   "outputs": [],
   "source": [
    "x = 10\n",
    "y = 20\n",
    "z = 30\n",
    "if (x > y or y < z) and z == 30:\n",
    "    print(\"True\")\n",
    "else:\n",
    "    print(\"False\")"
   ]
  },
  {
   "cell_type": "markdown",
   "id": "54ce9dfe-563e-469e-ab8f-6b56611325d4",
   "metadata": {},
   "source": [
    "## 2. While loops"
   ]
  },
  {
   "cell_type": "markdown",
   "id": "c984b486-07ce-429c-ae6a-81bf6b85fd85",
   "metadata": {},
   "source": [
    "### Q2"
   ]
  },
  {
   "cell_type": "code",
   "execution_count": null,
   "id": "2f356505-3799-4443-9bd5-c038a18acef3",
   "metadata": {},
   "outputs": [],
   "source": [
    "i = 0\n",
    "\n",
    "while i < 3:\n",
    "    print(i)\n",
    "    i = i + 1"
   ]
  },
  {
   "cell_type": "markdown",
   "id": "6bbf6d07-32b9-40b2-a05a-105e8948b6a7",
   "metadata": {},
   "source": [
    "### Q3"
   ]
  },
  {
   "cell_type": "code",
   "execution_count": null,
   "id": "531739cd-141c-4e74-a36d-ea4e42088fd6",
   "metadata": {},
   "outputs": [],
   "source": [
    "n = 3\n",
    "\n",
    "while n > 0:\n",
    "    n = n - 1\n",
    "    print(n)"
   ]
  },
  {
   "cell_type": "markdown",
   "id": "1c0755ff-085e-4218-bb99-31fd605a5d6b",
   "metadata": {},
   "source": [
    "### Q4"
   ]
  },
  {
   "cell_type": "code",
   "execution_count": null,
   "id": "20a4c9cb-8d19-4e83-b116-bb48659056c5",
   "metadata": {},
   "outputs": [],
   "source": [
    "age = 13\n",
    "\n",
    "while age < 17:\n",
    "    print(f\"I'm {age} years old this year\")\n",
    "    age = age - 1"
   ]
  },
  {
   "cell_type": "markdown",
   "id": "5ddacf96-7c49-4243-b477-418a8ea8e714",
   "metadata": {},
   "source": [
    "### Q5"
   ]
  },
  {
   "cell_type": "code",
   "execution_count": null,
   "id": "3afe5bbc-1eb0-42ac-b708-cbdd951b1110",
   "metadata": {},
   "outputs": [],
   "source": [
    "# This program is supposed\n",
    "# to count down from 10 to 0\n",
    "number = 10\n",
    "\n",
    "while number >= 0\n",
    "    print(number)\n",
    "    number = number - 1"
   ]
  },
  {
   "cell_type": "markdown",
   "id": "b7b4cb90-393b-47f5-a3b1-fbf0cc20b9c1",
   "metadata": {},
   "source": [
    "### Q6"
   ]
  },
  {
   "cell_type": "code",
   "execution_count": null,
   "id": "74701adf-ece3-40ff-9ee0-d0cc55a5e767",
   "metadata": {},
   "outputs": [],
   "source": [
    "temperature = float(input(\"Enter the temperature outside in °C: \"))\n",
    "\n",
    "while temperature < -90 or temperature > 60:\n",
    "    print(\"That temperature seems inaccurate\")\n",
    "    temperature = float(input(\"Enter the correct temperature outside in °C: \"))\n",
    "\n",
    "print(f\"Temperature received: {temperature}°C\")"
   ]
  },
  {
   "cell_type": "markdown",
   "id": "e93eb8e4-c75a-4c6c-ae6b-fd2d29dea79f",
   "metadata": {},
   "source": [
    "### Q7"
   ]
  },
  {
   "cell_type": "code",
   "execution_count": null,
   "id": "36b74052-cc9e-46b6-a7d2-b2a37f3941fd",
   "metadata": {},
   "outputs": [],
   "source": [
    "num = 1\n",
    "\n",
    "while num < 10:\n",
    "    print(num)\n",
    "\n",
    "    if num == 3:\n",
    "        num = 10\n",
    "    else:\n",
    "        num = num + 1"
   ]
  },
  {
   "cell_type": "markdown",
   "id": "87bd9801-3d30-4d4a-b323-d59d41937cc9",
   "metadata": {},
   "source": [
    "## 3. For loops"
   ]
  },
  {
   "cell_type": "markdown",
   "id": "e745fdc4-1b45-4bbd-8af6-592b01639e4c",
   "metadata": {},
   "source": [
    "### Q1"
   ]
  },
  {
   "cell_type": "code",
   "execution_count": null,
   "id": "f2b7670f-47ba-46bf-8a1f-9e302e964ae3",
   "metadata": {},
   "outputs": [],
   "source": [
    "for i in range(0, 5):\n",
    "    print(i)"
   ]
  },
  {
   "cell_type": "markdown",
   "id": "151607f6-80be-4f38-a2f0-479971ba2a5b",
   "metadata": {},
   "source": [
    "### Q3"
   ]
  },
  {
   "cell_type": "code",
   "execution_count": null,
   "id": "e7e2bf41-770a-4d4b-8568-c5fffb566f1b",
   "metadata": {},
   "outputs": [],
   "source": [
    "for i in range(1, 4)\n",
    "    print(f\"i is {i}\")"
   ]
  },
  {
   "cell_type": "markdown",
   "id": "4f912fc4-f47c-46d6-9d50-3e33a6277032",
   "metadata": {},
   "source": [
    "### Q4"
   ]
  },
  {
   "cell_type": "code",
   "execution_count": null,
   "id": "a5a24301-f7b2-4610-b1c8-039a95d73020",
   "metadata": {},
   "outputs": [],
   "source": [
    "# x = 0\n",
    "for i in range(0, 10):\n",
    "    x = x + i\n",
    "    print(f\"x is {x}\")"
   ]
  },
  {
   "cell_type": "markdown",
   "id": "9712bbc0-88a7-4fb1-b6b0-7183fb0f1d64",
   "metadata": {},
   "source": [
    "### Q5"
   ]
  },
  {
   "cell_type": "code",
   "execution_count": null,
   "id": "8bb3b704-7334-414c-b80b-ff7eb8fa62a9",
   "metadata": {},
   "outputs": [],
   "source": [
    "x = 1\n",
    "\n",
    "for i in range(0,6):\n",
    "    if i % 2 != 0:\n",
    "        x = x + 1\n",
    "        print(x)"
   ]
  }
 ],
 "metadata": {
  "kernelspec": {
   "display_name": "Python 3 (ipykernel)",
   "language": "python",
   "name": "python3"
  },
  "language_info": {
   "codemirror_mode": {
    "name": "ipython",
    "version": 3
   },
   "file_extension": ".py",
   "mimetype": "text/x-python",
   "name": "python",
   "nbconvert_exporter": "python",
   "pygments_lexer": "ipython3",
   "version": "3.12.3"
  }
 },
 "nbformat": 4,
 "nbformat_minor": 5
}
